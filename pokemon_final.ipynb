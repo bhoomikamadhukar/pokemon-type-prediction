{
 "cells": [
  {
   "cell_type": "markdown",
   "metadata": {},
   "source": [
    "# PREDICTION OF POKEMON TYPES USING POKEMON DATASET \n"
   ]
  },
  {
   "cell_type": "markdown",
   "metadata": {},
   "source": [
    "<img src=\"pokemon.png\" style=\"width:500px\">"
   ]
  },
  {
   "cell_type": "markdown",
   "metadata": {},
   "source": [
    "The dataset used in this project contains 800 different pokemons which belong to seven generations. The project focuses on predicting the types of pokemon and whether \n",
    "the pokemon are legendary or not based on machine learning techniques. In particular, we will take advantage of:\n",
    "    1. Knn algorithm\n",
    "    2. Neural  network"
   ]
  },
  {
   "cell_type": "markdown",
   "metadata": {},
   "source": [
    "There are in total, 18 different types of pokemon that are present in the dataset. The pokemon is said to be legendary if the value is 1\n",
    "and is not legendary if the value is 0. The features influencing the type of the pokemon are the abilities and the strength of the pokemon\n",
    "against other pokemon. The features that determine if the pokemon is legendary or not is the attack,defense,special attack,special defense,HP,\n",
    "height,weight and experience. 640 data points are used for training and 160 for testing the model. \n",
    "Alright, lets catch 'em all!"
   ]
  },
  {
   "cell_type": "markdown",
   "metadata": {},
   "source": [
    "# Loading the data"
   ]
  },
  {
   "cell_type": "code",
   "execution_count": 1,
   "metadata": {},
   "outputs": [
    {
     "name": "stderr",
     "output_type": "stream",
     "text": [
      "C:\\ProgramData\\Anaconda3\\lib\\site-packages\\h5py\\__init__.py:36: FutureWarning: Conversion of the second argument of issubdtype from `float` to `np.floating` is deprecated. In future, it will be treated as `np.float64 == np.dtype(float).type`.\n",
      "  from ._conv import register_converters as _register_converters\n",
      "Using TensorFlow backend.\n"
     ]
    },
    {
     "data": {
      "text/html": [
       "<div>\n",
       "<style scoped>\n",
       "    .dataframe tbody tr th:only-of-type {\n",
       "        vertical-align: middle;\n",
       "    }\n",
       "\n",
       "    .dataframe tbody tr th {\n",
       "        vertical-align: top;\n",
       "    }\n",
       "\n",
       "    .dataframe thead th {\n",
       "        text-align: right;\n",
       "    }\n",
       "</style>\n",
       "<table border=\"1\" class=\"dataframe\">\n",
       "  <thead>\n",
       "    <tr style=\"text-align: right;\">\n",
       "      <th></th>\n",
       "      <th>abilities</th>\n",
       "      <th>against_bug</th>\n",
       "      <th>against_dark</th>\n",
       "      <th>against_dragon</th>\n",
       "      <th>against_electric</th>\n",
       "      <th>against_fairy</th>\n",
       "      <th>against_fight</th>\n",
       "      <th>against_fire</th>\n",
       "      <th>against_flying</th>\n",
       "      <th>against_ghost</th>\n",
       "      <th>...</th>\n",
       "      <th>height_m</th>\n",
       "      <th>hp</th>\n",
       "      <th>name</th>\n",
       "      <th>sp_attack</th>\n",
       "      <th>sp_defense</th>\n",
       "      <th>speed</th>\n",
       "      <th>type1</th>\n",
       "      <th>weight_kg</th>\n",
       "      <th>generation</th>\n",
       "      <th>is_legendary</th>\n",
       "    </tr>\n",
       "  </thead>\n",
       "  <tbody>\n",
       "    <tr>\n",
       "      <th>0</th>\n",
       "      <td>['Overgrow', 'Chlorophyll']</td>\n",
       "      <td>1.0</td>\n",
       "      <td>1.0</td>\n",
       "      <td>1.0</td>\n",
       "      <td>0.5</td>\n",
       "      <td>0.5</td>\n",
       "      <td>0.5</td>\n",
       "      <td>2.0</td>\n",
       "      <td>2.0</td>\n",
       "      <td>1.0</td>\n",
       "      <td>...</td>\n",
       "      <td>0.7</td>\n",
       "      <td>45</td>\n",
       "      <td>Bulbasaur</td>\n",
       "      <td>65</td>\n",
       "      <td>65</td>\n",
       "      <td>45</td>\n",
       "      <td>grass</td>\n",
       "      <td>6.9</td>\n",
       "      <td>1</td>\n",
       "      <td>0</td>\n",
       "    </tr>\n",
       "    <tr>\n",
       "      <th>1</th>\n",
       "      <td>['Overgrow', 'Chlorophyll']</td>\n",
       "      <td>1.0</td>\n",
       "      <td>1.0</td>\n",
       "      <td>1.0</td>\n",
       "      <td>0.5</td>\n",
       "      <td>0.5</td>\n",
       "      <td>0.5</td>\n",
       "      <td>2.0</td>\n",
       "      <td>2.0</td>\n",
       "      <td>1.0</td>\n",
       "      <td>...</td>\n",
       "      <td>1.0</td>\n",
       "      <td>60</td>\n",
       "      <td>Ivysaur</td>\n",
       "      <td>80</td>\n",
       "      <td>80</td>\n",
       "      <td>60</td>\n",
       "      <td>grass</td>\n",
       "      <td>13.0</td>\n",
       "      <td>1</td>\n",
       "      <td>0</td>\n",
       "    </tr>\n",
       "    <tr>\n",
       "      <th>2</th>\n",
       "      <td>['Overgrow', 'Chlorophyll']</td>\n",
       "      <td>1.0</td>\n",
       "      <td>1.0</td>\n",
       "      <td>1.0</td>\n",
       "      <td>0.5</td>\n",
       "      <td>0.5</td>\n",
       "      <td>0.5</td>\n",
       "      <td>2.0</td>\n",
       "      <td>2.0</td>\n",
       "      <td>1.0</td>\n",
       "      <td>...</td>\n",
       "      <td>2.0</td>\n",
       "      <td>80</td>\n",
       "      <td>Venusaur</td>\n",
       "      <td>122</td>\n",
       "      <td>120</td>\n",
       "      <td>80</td>\n",
       "      <td>grass</td>\n",
       "      <td>100.0</td>\n",
       "      <td>1</td>\n",
       "      <td>0</td>\n",
       "    </tr>\n",
       "    <tr>\n",
       "      <th>3</th>\n",
       "      <td>['Blaze', 'Solar Power']</td>\n",
       "      <td>0.5</td>\n",
       "      <td>1.0</td>\n",
       "      <td>1.0</td>\n",
       "      <td>1.0</td>\n",
       "      <td>0.5</td>\n",
       "      <td>1.0</td>\n",
       "      <td>0.5</td>\n",
       "      <td>1.0</td>\n",
       "      <td>1.0</td>\n",
       "      <td>...</td>\n",
       "      <td>0.6</td>\n",
       "      <td>39</td>\n",
       "      <td>Charmander</td>\n",
       "      <td>60</td>\n",
       "      <td>50</td>\n",
       "      <td>65</td>\n",
       "      <td>fire</td>\n",
       "      <td>8.5</td>\n",
       "      <td>1</td>\n",
       "      <td>0</td>\n",
       "    </tr>\n",
       "    <tr>\n",
       "      <th>4</th>\n",
       "      <td>['Blaze', 'Solar Power']</td>\n",
       "      <td>0.5</td>\n",
       "      <td>1.0</td>\n",
       "      <td>1.0</td>\n",
       "      <td>1.0</td>\n",
       "      <td>0.5</td>\n",
       "      <td>1.0</td>\n",
       "      <td>0.5</td>\n",
       "      <td>1.0</td>\n",
       "      <td>1.0</td>\n",
       "      <td>...</td>\n",
       "      <td>1.1</td>\n",
       "      <td>58</td>\n",
       "      <td>Charmeleon</td>\n",
       "      <td>80</td>\n",
       "      <td>65</td>\n",
       "      <td>80</td>\n",
       "      <td>fire</td>\n",
       "      <td>19.0</td>\n",
       "      <td>1</td>\n",
       "      <td>0</td>\n",
       "    </tr>\n",
       "  </tbody>\n",
       "</table>\n",
       "<p>5 rows × 36 columns</p>\n",
       "</div>"
      ],
      "text/plain": [
       "                     abilities  against_bug  against_dark  against_dragon  \\\n",
       "0  ['Overgrow', 'Chlorophyll']          1.0           1.0             1.0   \n",
       "1  ['Overgrow', 'Chlorophyll']          1.0           1.0             1.0   \n",
       "2  ['Overgrow', 'Chlorophyll']          1.0           1.0             1.0   \n",
       "3     ['Blaze', 'Solar Power']          0.5           1.0             1.0   \n",
       "4     ['Blaze', 'Solar Power']          0.5           1.0             1.0   \n",
       "\n",
       "   against_electric  against_fairy  against_fight  against_fire  \\\n",
       "0               0.5            0.5            0.5           2.0   \n",
       "1               0.5            0.5            0.5           2.0   \n",
       "2               0.5            0.5            0.5           2.0   \n",
       "3               1.0            0.5            1.0           0.5   \n",
       "4               1.0            0.5            1.0           0.5   \n",
       "\n",
       "   against_flying  against_ghost      ...       height_m  hp        name  \\\n",
       "0             2.0            1.0      ...            0.7  45   Bulbasaur   \n",
       "1             2.0            1.0      ...            1.0  60     Ivysaur   \n",
       "2             2.0            1.0      ...            2.0  80    Venusaur   \n",
       "3             1.0            1.0      ...            0.6  39  Charmander   \n",
       "4             1.0            1.0      ...            1.1  58  Charmeleon   \n",
       "\n",
       "   sp_attack  sp_defense  speed  type1  weight_kg  generation  is_legendary  \n",
       "0         65          65     45  grass        6.9           1             0  \n",
       "1         80          80     60  grass       13.0           1             0  \n",
       "2        122         120     80  grass      100.0           1             0  \n",
       "3         60          50     65   fire        8.5           1             0  \n",
       "4         80          65     80   fire       19.0           1             0  \n",
       "\n",
       "[5 rows x 36 columns]"
      ]
     },
     "execution_count": 1,
     "metadata": {},
     "output_type": "execute_result"
    }
   ],
   "source": [
    "# Import initial libraries and settings\n",
    "import numpy as np\n",
    "import pandas as pd\n",
    "from sklearn.preprocessing import MultiLabelBinarizer\n",
    "from sklearn.decomposition import PCA\n",
    "import tensorflow as tf\n",
    "import keras\n",
    "import seaborn as sns\n",
    "import matplotlib.pyplot as plt\n",
    "from keras.models import Sequential\n",
    "from keras.layers import Dense, Dropout, Activation\n",
    "from keras.optimizers import SGD\n",
    "from sklearn.model_selection import train_test_split\n",
    "\n",
    "#import the data\n",
    "data=pd.read_csv(\"pokemon.csv\")\n",
    "\n",
    "data1=data.drop(['japanese_name','percentage_male','pokedex_number','type2','classfication'],axis=1)\n",
    "data1.head(5)"
   ]
  },
  {
   "cell_type": "markdown",
   "metadata": {},
   "source": [
    "# Data visualization\n",
    "What is the proportion of each type of pokemon in our dataset?\n"
   ]
  },
  {
   "cell_type": "code",
   "execution_count": 2,
   "metadata": {},
   "outputs": [
    {
     "data": {
      "text/plain": [
       "<matplotlib.axes._subplots.AxesSubplot at 0xe308fd0>"
      ]
     },
     "execution_count": 2,
     "metadata": {},
     "output_type": "execute_result"
    },
    {
     "data": {
      "image/png": "[encoded data removed]",
      "text/plain": [
       "<Figure size 720x720 with 1 Axes>"
      ]
     },
     "metadata": {},
     "output_type": "display_data"
    }
   ],
   "source": [
    "data['type1'].value_counts().plot(kind='bar', color='lightblue',figsize=(10,10))"
   ]
  },
  {
   "cell_type": "markdown",
   "metadata": {},
   "source": [
    "There are 18 types of pokemon which are water,normal,grass,bug,psychic,fire,rock,electric,groud,poison,dark,fighting,dragon,ghost,steel,ice,fairy,flying. Water type pokemon is the majority type of pokemon."
   ]
  },
  {
   "cell_type": "code",
   "execution_count": 3,
   "metadata": {},
   "outputs": [
    {
     "data": {
      "text/plain": [
       "<matplotlib.axes._subplots.AxesSubplot at 0xef25588>"
      ]
     },
     "execution_count": 3,
     "metadata": {},
     "output_type": "execute_result"
    },
    {
     "data": {
      "image/png": "[encoded data removed]",
      "text/plain": [
       "<Figure size 720x720 with 1 Axes>"
      ]
     },
     "metadata": {},
     "output_type": "display_data"
    }
   ],
   "source": [
    "data['is_legendary'].value_counts().plot(kind='bar', color='lightgreen',figsize=(10,10))"
   ]
  },
  {
   "cell_type": "markdown",
   "metadata": {},
   "source": [
    "This is why legendary pokemon are so rare. "
   ]
  },
  {
   "cell_type": "markdown",
   "metadata": {},
   "source": [
    "### Features vs legendary"
   ]
  },
  {
   "cell_type": "code",
   "execution_count": 4,
   "metadata": {},
   "outputs": [
    {
     "data": {
      "image/png": "[encoded data removed]",
      "text/plain": [
       "<Figure size 432x288 with 1 Axes>"
      ]
     },
     "metadata": {},
     "output_type": "display_data"
    }
   ],
   "source": [
    "sns.set()\n",
    "ax = sns.lineplot(x=\"attack\", y=\"is_legendary\", data=data)"
   ]
  },
  {
   "cell_type": "markdown",
   "metadata": {},
   "source": [
    "Using seaborn lineplot the graph of attack with the target is_legendary is plotted above. It indicates that the legendary pokemon will have a higher value for attack, which makes it stronger compared to the other pokemon."
   ]
  },
  {
   "cell_type": "code",
   "execution_count": 5,
   "metadata": {},
   "outputs": [
    {
     "data": {
      "image/png": "[encoded data removed]",
      "text/plain": [
       "<Figure size 432x288 with 1 Axes>"
      ]
     },
     "metadata": {},
     "output_type": "display_data"
    }
   ],
   "source": [
    "sns.set()\n",
    "ax = sns.lineplot(x=\"base_egg_steps\", y=\"is_legendary\", data=data)"
   ]
  },
  {
   "cell_type": "markdown",
   "metadata": {},
   "source": [
    "The above graph of base_egg_steps(The number of Egg cycles required to hatch an Egg is stored in the same number that would be the friendship value for normal Pokémon.) and target indicated that the number of egg steps required are more in case of legendary type."
   ]
  },
  {
   "cell_type": "code",
   "execution_count": 6,
   "metadata": {},
   "outputs": [
    {
     "data": {
      "image/png": "[encoded data removed]",
      "text/plain": [
       "<Figure size 432x288 with 1 Axes>"
      ]
     },
     "metadata": {},
     "output_type": "display_data"
    }
   ],
   "source": [
    "sns.set()\n",
    "ax = sns.lineplot(x=\"defense\", y=\"is_legendary\", data=data)"
   ]
  },
  {
   "cell_type": "markdown",
   "metadata": {},
   "source": [
    "The graph shows that normal pokemon have lower defense rates than the legendary ones."
   ]
  },
  {
   "cell_type": "code",
   "execution_count": 7,
   "metadata": {},
   "outputs": [
    {
     "data": {
      "image/png": "[encoded data removed]",
      "text/plain": [
       "<Figure size 432x288 with 1 Axes>"
      ]
     },
     "metadata": {},
     "output_type": "display_data"
    }
   ],
   "source": [
    "sns.set()\n",
    "ax = sns.lineplot(x=\"base_total\", y=\"is_legendary\", data=data)"
   ]
  },
  {
   "cell_type": "markdown",
   "metadata": {},
   "source": [
    "Base stats are an important defining characteristic of each Pokémon species. The total base stats are higher in pokemon which are legendary since they are stronger than normal pokemon."
   ]
  },
  {
   "cell_type": "code",
   "execution_count": 8,
   "metadata": {},
   "outputs": [
    {
     "data": {
      "image/png": "[encoded data removed]",
      "text/plain": [
       "<Figure size 432x288 with 1 Axes>"
      ]
     },
     "metadata": {},
     "output_type": "display_data"
    }
   ],
   "source": [
    "sns.set()\n",
    "ax = sns.lineplot(x=\"sp_attack\", y=\"is_legendary\", data=data)"
   ]
  },
  {
   "cell_type": "markdown",
   "metadata": {},
   "source": [
    "Legendary pokemon exhibit special attack and defense features when compared to normal ones."
   ]
  },
  {
   "cell_type": "markdown",
   "metadata": {},
   "source": [
    "# Data preprocessing"
   ]
  },
  {
   "cell_type": "markdown",
   "metadata": {},
   "source": [
    "Here, the abilities of the pokemon are a list of string values.These are to be converted into binary equivalents.\n",
    "Hence,multilabelbinarizer can be used which tranforms the list into a binary matrix having 227 columns since there are 227 distinct values in the list."
   ]
  },
  {
   "cell_type": "code",
   "execution_count": 12,
   "metadata": {},
   "outputs": [],
   "source": [
    "ability=[]\n",
    "for i in data1['abilities']:\n",
    "    x = i[1:-2]\n",
    "    \n",
    "    x = x.replace(\"'\",\"\")\n",
    "   \n",
    "    x= x.replace(\" \", \"\")\n",
    "   \n",
    "    y = x.split(',')\n",
    "    \n",
    "    ability.append(y)\n",
    "df = pd.DataFrame(\n",
    "    {'abilities':\n",
    "        ability\n",
    "    }, columns=['abilities'])\n",
    "\n",
    "s = df['abilities']\n",
    "\n",
    "mlb = MultiLabelBinarizer()\n",
    "\n",
    "X=pd.DataFrame(mlb.fit_transform(s),columns=mlb.classes_, index=df.index)\n",
    "x=pd.DataFrame(X)"
   ]
  },
  {
   "cell_type": "markdown",
   "metadata": {},
   "source": [
    "### Principal Component Analysis (PCA)\n",
    "\n",
    "PCA is a dimension-reduction tool that can be used to reduce a large set of variables to a small set that still contains most of the information in the large set. Since all 227 columns are important, I have used PCA to tranform it into 10 columns."
   ]
  },
  {
   "cell_type": "code",
   "execution_count": 13,
   "metadata": {},
   "outputs": [],
   "source": [
    "newdf = pd.concat([x,data1],axis=1)\n",
    "\n",
    "\n",
    "pca = PCA()  \n",
    "features1 = pca.fit_transform(x)\n",
    "explained_variance = pca.explained_variance_ratio_\n",
    "explained_variance\n",
    "pca = PCA(n_components=10)  \n",
    "features1 = pca.fit_transform(features1)"
   ]
  },
  {
   "cell_type": "markdown",
   "metadata": {},
   "source": [
    "Upon observing the dataset,there were few values with Nan which indicates missing values. We have to replace these values and this can be done by taking the mean of the row and replacing Nan with this mean. Furhter, few columns are dropped in order to get the clean dataset. "
   ]
  },
  {
   "cell_type": "code",
   "execution_count": 14,
   "metadata": {},
   "outputs": [],
   "source": [
    "features=newdf.drop(['type1','name','abilities'],axis=1)\n",
    "features.fillna(features.mean(), inplace=True)\n",
    "\n"
   ]
  },
  {
   "cell_type": "markdown",
   "metadata": {},
   "source": [
    "Okay, lets get to the algorithms. Since there are two target values considered, two models are built in both neural network and KNN. We begin with predicting the accuracy using KNN algorithm."
   ]
  },
  {
   "cell_type": "markdown",
   "metadata": {},
   "source": [
    "## KNN, I choose you! <img src=\"pokeballgif.gif\" style=\"width:450px\">"
   ]
  },
  {
   "cell_type": "markdown",
   "metadata": {},
   "source": [
    "We will first predict the accuracy for the target 'is_legendary'. The various features affecting this can be determined by the correlation. The pearson correlation and the heat map is as follows,"
   ]
  },
  {
   "cell_type": "code",
   "execution_count": 15,
   "metadata": {},
   "outputs": [
    {
     "data": {
      "image/png": "[encoded data removed]",
      "text/plain": [
       "<Figure size 1440x720 with 2 Axes>"
      ]
     },
     "metadata": {},
     "output_type": "display_data"
    }
   ],
   "source": [
    "data2=data1.drop(['abilities','against_bug','against_dark','against_dragon','against_electric','against_fairy','against_fight','against_fire','against_flying','against_ghost','against_grass','against_ground','against_ice','against_normal','against_poison','against_psychic','against_rock','against_steel','against_water'],axis=1)\n",
    "data2\n",
    "abs(data2['is_legendary']).sort_values(ascending=False)\n",
    "corr = data2.corr()\n",
    "plt.figure(figsize=(20, 10))\n",
    "sns.heatmap(corr, annot=True)\n",
    "plt.show()\n"
   ]
  },
  {
   "cell_type": "markdown",
   "metadata": {},
   "source": [
    "We see that there is some correlation with the following stats\n",
    "    Base egg steps, defense, attack,base total, special attack and special defense.\n",
    "    \n",
    "Keeping this in view, we will select the necessary features like attack, defense, base_egg_steps,hp,sp_attack,sp_defense adn base_total. The remaining features are dropped."
   ]
  },
  {
   "cell_type": "code",
   "execution_count": 63,
   "metadata": {},
   "outputs": [
    {
     "data": {
      "text/html": [
       "<div>\n",
       "<style scoped>\n",
       "    .dataframe tbody tr th:only-of-type {\n",
       "        vertical-align: middle;\n",
       "    }\n",
       "\n",
       "    .dataframe tbody tr th {\n",
       "        vertical-align: top;\n",
       "    }\n",
       "\n",
       "    .dataframe thead th {\n",
       "        text-align: right;\n",
       "    }\n",
       "</style>\n",
       "<table border=\"1\" class=\"dataframe\">\n",
       "  <thead>\n",
       "    <tr style=\"text-align: right;\">\n",
       "      <th></th>\n",
       "      <th>attack</th>\n",
       "      <th>base_egg_steps</th>\n",
       "      <th>base_total</th>\n",
       "      <th>defense</th>\n",
       "      <th>hp</th>\n",
       "      <th>sp_attack</th>\n",
       "      <th>sp_defense</th>\n",
       "    </tr>\n",
       "  </thead>\n",
       "  <tbody>\n",
       "    <tr>\n",
       "      <th>0</th>\n",
       "      <td>49</td>\n",
       "      <td>5120</td>\n",
       "      <td>318</td>\n",
       "      <td>49</td>\n",
       "      <td>45</td>\n",
       "      <td>65</td>\n",
       "      <td>65</td>\n",
       "    </tr>\n",
       "    <tr>\n",
       "      <th>1</th>\n",
       "      <td>62</td>\n",
       "      <td>5120</td>\n",
       "      <td>405</td>\n",
       "      <td>63</td>\n",
       "      <td>60</td>\n",
       "      <td>80</td>\n",
       "      <td>80</td>\n",
       "    </tr>\n",
       "    <tr>\n",
       "      <th>2</th>\n",
       "      <td>100</td>\n",
       "      <td>5120</td>\n",
       "      <td>625</td>\n",
       "      <td>123</td>\n",
       "      <td>80</td>\n",
       "      <td>122</td>\n",
       "      <td>120</td>\n",
       "    </tr>\n",
       "    <tr>\n",
       "      <th>3</th>\n",
       "      <td>52</td>\n",
       "      <td>5120</td>\n",
       "      <td>309</td>\n",
       "      <td>43</td>\n",
       "      <td>39</td>\n",
       "      <td>60</td>\n",
       "      <td>50</td>\n",
       "    </tr>\n",
       "    <tr>\n",
       "      <th>4</th>\n",
       "      <td>64</td>\n",
       "      <td>5120</td>\n",
       "      <td>405</td>\n",
       "      <td>58</td>\n",
       "      <td>58</td>\n",
       "      <td>80</td>\n",
       "      <td>65</td>\n",
       "    </tr>\n",
       "  </tbody>\n",
       "</table>\n",
       "</div>"
      ],
      "text/plain": [
       "   attack  base_egg_steps  base_total  defense  hp  sp_attack  sp_defense\n",
       "0      49            5120         318       49  45         65          65\n",
       "1      62            5120         405       63  60         80          80\n",
       "2     100            5120         625      123  80        122         120\n",
       "3      52            5120         309       43  39         60          50\n",
       "4      64            5120         405       58  58         80          65"
      ]
     },
     "execution_count": 63,
     "metadata": {},
     "output_type": "execute_result"
    }
   ],
   "source": [
    "features2= pd.DataFrame(features.iloc[:,245:-2])\n",
    "features2=features2.drop(['capture_rate','experience_growth','speed','weight_kg','base_happiness','height_m'],axis=1)\n",
    "features2=pd.DataFrame(features2)\n",
    "features2.head()"
   ]
  },
  {
   "cell_type": "markdown",
   "metadata": {},
   "source": [
    "The features that are most correlated with the target is chosen and the rest are dropped. "
   ]
  },
  {
   "cell_type": "code",
   "execution_count": 26,
   "metadata": {},
   "outputs": [],
   "source": [
    "#normalization of the data.\n",
    "features2=(features2-features2.min())/(features2.max()-features2.min())\n",
    "features2=np.array(features2)"
   ]
  },
  {
   "cell_type": "code",
   "execution_count": 27,
   "metadata": {},
   "outputs": [],
   "source": [
    "target=pd.DataFrame(newdf['is_legendary'])\n",
    "target=np.array(target)\n",
    "xtrain, xtest, ytrain, ytest = train_test_split(features2,target, test_size=0.3)"
   ]
  },
  {
   "cell_type": "markdown",
   "metadata": {},
   "source": [
    "features2 contains all the necessary features for our prediction and target contains 'is_legendary'. 70% of the data is used on training and 30% for testing.\n",
    "The Knn algorithm is shown below. 15 neighbours are considered."
   ]
  },
  {
   "cell_type": "code",
   "execution_count": 33,
   "metadata": {},
   "outputs": [],
   "source": [
    "def euclid_distance(train_point, given_point):\n",
    "    distance = np.sum((train_point-given_point)**2)\n",
    "    return np.sqrt(distance)\n",
    "\n",
    "\n",
    "# Calculate distance from a given point to all other points\n",
    "# and keep track of the respective classes for those distances\n",
    "# and eventually return sorted list of distances\n",
    "def calc_distance_from_all(all_points, given_point, predictions):\n",
    "    all_distances = []\n",
    "    for i, each in enumerate(all_points):\n",
    "        distance = euclid_distance(each, given_point)\n",
    "        all_distances.append((distance,int(predictions[i])))\n",
    "    all_distances.sort(key=lambda tup: tup[0])\n",
    "    return all_distances\n",
    "\n",
    "\n",
    "\n",
    "# Get the \"n\" defined neighbours from a list of sorted distances\n",
    "def get_neighbours(distances, count):\n",
    "    return distances[:count]\n",
    "\n",
    "\n",
    "\n",
    "\n",
    "# Takes a given point and predicts the class based on all other points\n",
    "def predict(all_points, given_point, predictions):\n",
    "    distances = calc_distance_from_all(all_points,given_point,predictions)\n",
    "    neighbours = get_neighbours(distances, 15)\n",
    "    \n",
    "    op = [row[-1] for row in neighbours]\n",
    "    prediction = max(set(op), key=op.count)\n",
    "    return prediction\n",
    "\n",
    "\n",
    "\n",
    "# Get how accurate our system is based on a new set of test points\n",
    "# for which we already know the right answer to\n",
    "def accuracy(basex, basey, testx, testy):\n",
    "    correct = 0 \n",
    "    \n",
    "    for i in range(len(testx)):\n",
    "        p = predict(basex, testx[i], basey)\n",
    "        if p == testy[i]:\n",
    "            correct += 1\n",
    "            \n",
    "    return f\"Accuracy: {correct*100/len(testy)}%\""
   ]
  },
  {
   "cell_type": "code",
   "execution_count": 29,
   "metadata": {},
   "outputs": [
    {
     "data": {
      "text/plain": [
       "'Accuracy: 98.7551867219917%'"
      ]
     },
     "execution_count": 29,
     "metadata": {},
     "output_type": "execute_result"
    }
   ],
   "source": [
    "accuracy(xtrain,ytrain,xtest,ytest)"
   ]
  },
  {
   "cell_type": "markdown",
   "metadata": {},
   "source": [
    "The accuracy for predicting the legendary pokemon is 98.75%. "
   ]
  },
  {
   "cell_type": "markdown",
   "metadata": {},
   "source": [
    "We will now predict the accuracy for the target 'type1' to predict the type of the pokemon. The feautures needed for this are the ability of the pokemon and the strength against other types of pokemon. We have already preprocessed the data and used PCA to convert the 227 columns into 10,which is present in a variable called features1. features3 contains the strength of the pokemon against other pokemon. "
   ]
  },
  {
   "cell_type": "code",
   "execution_count": 17,
   "metadata": {},
   "outputs": [],
   "source": [
    "features3= pd.DataFrame(features.iloc[:,227:-15])\n",
    "features1=pd.DataFrame(features1)\n",
    "features3=pd.DataFrame(features3)\n",
    "ft=pd.concat([features1,features3],axis=1)\n",
    "ft=(ft-ft.min())/(ft.max()-ft.min())\n",
    "ft=np.array(ft)\n",
    "\n"
   ]
  },
  {
   "cell_type": "markdown",
   "metadata": {},
   "source": [
    "The target consists of string values which have to be converted into integers. Thus,cat.codes is used to convert the string classes into integer class values."
   ]
  },
  {
   "cell_type": "code",
   "execution_count": 40,
   "metadata": {},
   "outputs": [],
   "source": [
    "target1=newdf['type1']\n",
    "target=target1.astype(\"category\").cat.codes\n",
    "target=np.array(target)\n",
    "xtrain, xtest, ytrain, ytest = train_test_split(ft,target, test_size=0.3)\n"
   ]
  },
  {
   "cell_type": "code",
   "execution_count": 41,
   "metadata": {},
   "outputs": [
    {
     "data": {
      "text/plain": [
       "'Accuracy: 76.34854771784232%'"
      ]
     },
     "execution_count": 41,
     "metadata": {},
     "output_type": "execute_result"
    }
   ],
   "source": [
    "accuracy(xtrain,ytrain,xtest,ytest)"
   ]
  },
  {
   "cell_type": "markdown",
   "metadata": {},
   "source": [
    "Upon execution of the KNN algorithm for the new set of features and target, the accuracy to predict the type is 76.34% with 15 neighbours. \n",
    "KNN algorithm gives a good accuracy for both the targets. "
   ]
  },
  {
   "cell_type": "markdown",
   "metadata": {},
   "source": [
    "## Algorithm conclusions"
   ]
  },
  {
   "cell_type": "markdown",
   "metadata": {},
   "source": [
    "It is observed that the KNN algorithm fits well with both the target giving an accuracy of more than 75%. "
   ]
  },
  {
   "cell_type": "markdown",
   "metadata": {},
   "source": [
    "Now, let us explore neural networks for our data. "
   ]
  },
  {
   "cell_type": "markdown",
   "metadata": {},
   "source": [
    "# Good job KNN. Lets go Neural networks!"
   ]
  },
  {
   "cell_type": "markdown",
   "metadata": {},
   "source": [
    "### Training the data.\n",
    "As with KNN, we will build two networks for predicting type and legendary pokemon. We will start by building a model with the target as 'type1' and features as abilities and strength against other pokemon. The features1 contains the 10 columns obtained after PCA and features 2 contains the strenghts of pokemon against other types of pokemon.\n",
    "ft is the concatenation of features1 and features2 which is then normalized and converted into an array."
   ]
  },
  {
   "cell_type": "code",
   "execution_count": 6,
   "metadata": {},
   "outputs": [],
   "source": [
    "features.fillna(features.mean(), inplace=True)\n",
    "features2= pd.DataFrame(features.iloc[:,227:-15])\n",
    "features1=pd.DataFrame(features1)\n",
    "features2=pd.DataFrame(features2)\n",
    "ft=pd.concat([features1,features2],axis=1)\n",
    "\n",
    "ft=(ft-ft.min())/(ft.max()-ft.min())\n",
    "ft=np.array(ft)"
   ]
  },
  {
   "cell_type": "markdown",
   "metadata": {},
   "source": [
    "The target being string values has to be converted into binary which is done using get_dummies(). The data is split as 70% training and 30% test data. "
   ]
  },
  {
   "cell_type": "code",
   "execution_count": 7,
   "metadata": {},
   "outputs": [],
   "source": [
    "target1=pd.DataFrame(newdf['type1'])\n",
    "target1=pd.get_dummies(target1)\n",
    "target=np.array(target1)\n",
    "xtrain,xtest,ytrain,ytest=train_test_split(ft,target, test_size=0.3)"
   ]
  },
  {
   "cell_type": "markdown",
   "metadata": {},
   "source": [
    "Using tensorflow a neural network consisting of one input layer, one hidden layer and one output layer. The activation functions used are tanh and softmax. Since 18 classes are present there aare 18 nodes in the output layer."
   ]
  },
  {
   "cell_type": "code",
   "execution_count": 8,
   "metadata": {},
   "outputs": [],
   "source": [
    "model = keras.Sequential([\n",
    "    keras.layers.Dense(106, activation=tf.nn.tanh,\n",
    "                       input_shape=(xtrain.shape[1],)),\n",
    "    keras.layers.Dense(64, activation=tf.nn.tanh),\n",
    "    keras.layers.Dense(18, activation=tf.nn.softmax)\n",
    "])"
   ]
  },
  {
   "cell_type": "code",
   "execution_count": 9,
   "metadata": {},
   "outputs": [],
   "source": [
    "sgd = SGD(lr=0.01, decay=1e-6, momentum=0.9, nesterov=True)\n",
    "model.compile(loss='categorical_crossentropy',\n",
    "              optimizer=sgd,\n",
    "              metrics=['accuracy'])"
   ]
  },
  {
   "cell_type": "code",
   "execution_count": 10,
   "metadata": {},
   "outputs": [
    {
     "name": "stdout",
     "output_type": "stream",
     "text": [
      "Train on 448 samples, validate on 112 samples\n",
      "Epoch 1/200\n",
      " - 0s - loss: 2.8751 - acc: 0.0759 - val_loss: 2.7542 - val_acc: 0.1696\n",
      "Epoch 2/200\n",
      " - 0s - loss: 2.6072 - acc: 0.2522 - val_loss: 2.6534 - val_acc: 0.2143\n",
      "Epoch 3/200\n",
      " - 0s - loss: 2.4656 - acc: 0.2589 - val_loss: 2.5023 - val_acc: 0.3036\n",
      "Epoch 4/200\n",
      " - 0s - loss: 2.3273 - acc: 0.4040 - val_loss: 2.3737 - val_acc: 0.3214\n",
      "Epoch 5/200\n",
      " - 0s - loss: 2.1706 - acc: 0.4688 - val_loss: 2.2222 - val_acc: 0.4375\n",
      "Epoch 6/200\n",
      " - 0s - loss: 2.0113 - acc: 0.5022 - val_loss: 2.0697 - val_acc: 0.4732\n",
      "Epoch 7/200\n",
      " - 0s - loss: 1.8432 - acc: 0.5938 - val_loss: 1.9107 - val_acc: 0.5179\n",
      "Epoch 8/200\n",
      " - 0s - loss: 1.6807 - acc: 0.6228 - val_loss: 1.7610 - val_acc: 0.5625\n",
      "Epoch 9/200\n",
      " - 0s - loss: 1.5328 - acc: 0.6429 - val_loss: 1.6297 - val_acc: 0.5804\n",
      "Epoch 10/200\n",
      " - 0s - loss: 1.3991 - acc: 0.6496 - val_loss: 1.4986 - val_acc: 0.5982\n",
      "Epoch 11/200\n",
      " - 0s - loss: 1.2855 - acc: 0.6763 - val_loss: 1.3997 - val_acc: 0.6250\n",
      "Epoch 12/200\n",
      " - 0s - loss: 1.1861 - acc: 0.7076 - val_loss: 1.2968 - val_acc: 0.6786\n",
      "Epoch 13/200\n",
      " - 0s - loss: 1.0996 - acc: 0.7567 - val_loss: 1.2030 - val_acc: 0.7857\n",
      "Epoch 14/200\n",
      " - 0s - loss: 1.0135 - acc: 0.7790 - val_loss: 1.1282 - val_acc: 0.7768\n",
      "Epoch 15/200\n",
      " - 0s - loss: 0.9473 - acc: 0.7902 - val_loss: 1.0595 - val_acc: 0.8125\n",
      "Epoch 16/200\n",
      " - 0s - loss: 0.8857 - acc: 0.8147 - val_loss: 0.9871 - val_acc: 0.8125\n",
      "Epoch 17/200\n",
      " - 0s - loss: 0.8258 - acc: 0.8326 - val_loss: 0.9316 - val_acc: 0.8036\n",
      "Epoch 18/200\n",
      " - 0s - loss: 0.7750 - acc: 0.8393 - val_loss: 0.8885 - val_acc: 0.8214\n",
      "Epoch 19/200\n",
      " - 0s - loss: 0.7278 - acc: 0.8482 - val_loss: 0.8369 - val_acc: 0.7857\n",
      "Epoch 20/200\n",
      " - 0s - loss: 0.6821 - acc: 0.8571 - val_loss: 0.7972 - val_acc: 0.8393\n",
      "Epoch 21/200\n",
      " - 0s - loss: 0.6414 - acc: 0.8750 - val_loss: 0.7592 - val_acc: 0.8214\n",
      "Epoch 22/200\n",
      " - 0s - loss: 0.6086 - acc: 0.8772 - val_loss: 0.7186 - val_acc: 0.8482\n",
      "Epoch 23/200\n",
      " - 0s - loss: 0.5734 - acc: 0.8839 - val_loss: 0.6850 - val_acc: 0.8393\n",
      "Epoch 24/200\n",
      " - 0s - loss: 0.5416 - acc: 0.8817 - val_loss: 0.6599 - val_acc: 0.8482\n",
      "Epoch 25/200\n",
      " - 0s - loss: 0.5185 - acc: 0.8996 - val_loss: 0.6310 - val_acc: 0.8571\n",
      "Epoch 26/200\n",
      " - 0s - loss: 0.4888 - acc: 0.8996 - val_loss: 0.6093 - val_acc: 0.8571\n",
      "Epoch 27/200\n",
      " - 0s - loss: 0.4653 - acc: 0.8996 - val_loss: 0.5798 - val_acc: 0.8571\n",
      "Epoch 28/200\n",
      " - 0s - loss: 0.4418 - acc: 0.9107 - val_loss: 0.5646 - val_acc: 0.8571\n",
      "Epoch 29/200\n",
      " - 0s - loss: 0.4233 - acc: 0.9129 - val_loss: 0.5425 - val_acc: 0.8661\n",
      "Epoch 30/200\n",
      " - 0s - loss: 0.4040 - acc: 0.9107 - val_loss: 0.5237 - val_acc: 0.8571\n",
      "Epoch 31/200\n",
      " - 0s - loss: 0.3842 - acc: 0.9241 - val_loss: 0.5150 - val_acc: 0.8661\n",
      "Epoch 32/200\n",
      " - 0s - loss: 0.3736 - acc: 0.9152 - val_loss: 0.4972 - val_acc: 0.8482\n",
      "Epoch 33/200\n",
      " - 0s - loss: 0.3581 - acc: 0.9263 - val_loss: 0.4778 - val_acc: 0.8839\n",
      "Epoch 34/200\n",
      " - 0s - loss: 0.3408 - acc: 0.9375 - val_loss: 0.4736 - val_acc: 0.8661\n",
      "Epoch 35/200\n",
      " - 0s - loss: 0.3306 - acc: 0.9196 - val_loss: 0.4651 - val_acc: 0.8750\n",
      "Epoch 36/200\n",
      " - 0s - loss: 0.3199 - acc: 0.9308 - val_loss: 0.4562 - val_acc: 0.8750\n",
      "Epoch 37/200\n",
      " - 0s - loss: 0.3065 - acc: 0.9397 - val_loss: 0.4459 - val_acc: 0.8839\n",
      "Epoch 38/200\n",
      " - 0s - loss: 0.2970 - acc: 0.9375 - val_loss: 0.4354 - val_acc: 0.8750\n",
      "Epoch 39/200\n",
      " - 0s - loss: 0.2853 - acc: 0.9397 - val_loss: 0.4240 - val_acc: 0.8839\n",
      "Epoch 40/200\n",
      " - 0s - loss: 0.2777 - acc: 0.9397 - val_loss: 0.4219 - val_acc: 0.8839\n",
      "Epoch 41/200\n",
      " - 0s - loss: 0.2690 - acc: 0.9442 - val_loss: 0.4187 - val_acc: 0.8750\n",
      "Epoch 42/200\n",
      " - 0s - loss: 0.2607 - acc: 0.9442 - val_loss: 0.4052 - val_acc: 0.8839\n",
      "Epoch 43/200\n",
      " - 0s - loss: 0.2549 - acc: 0.9420 - val_loss: 0.4123 - val_acc: 0.8750\n",
      "Epoch 44/200\n",
      " - 0s - loss: 0.2497 - acc: 0.9464 - val_loss: 0.4003 - val_acc: 0.8750\n",
      "Epoch 45/200\n",
      " - 0s - loss: 0.2453 - acc: 0.9375 - val_loss: 0.3903 - val_acc: 0.8750\n",
      "Epoch 46/200\n",
      " - 0s - loss: 0.2341 - acc: 0.9509 - val_loss: 0.3910 - val_acc: 0.8661\n",
      "Epoch 47/200\n",
      " - 0s - loss: 0.2282 - acc: 0.9531 - val_loss: 0.3820 - val_acc: 0.8750\n",
      "Epoch 48/200\n",
      " - 0s - loss: 0.2257 - acc: 0.9464 - val_loss: 0.3874 - val_acc: 0.8750\n",
      "Epoch 49/200\n",
      " - 0s - loss: 0.2163 - acc: 0.9598 - val_loss: 0.3828 - val_acc: 0.8750\n",
      "Epoch 50/200\n",
      " - 0s - loss: 0.2135 - acc: 0.9464 - val_loss: 0.3787 - val_acc: 0.8750\n",
      "Epoch 51/200\n",
      " - 0s - loss: 0.2064 - acc: 0.9598 - val_loss: 0.3770 - val_acc: 0.8661\n",
      "Epoch 52/200\n",
      " - 0s - loss: 0.2021 - acc: 0.9576 - val_loss: 0.3702 - val_acc: 0.8750\n",
      "Epoch 53/200\n",
      " - 0s - loss: 0.1981 - acc: 0.9598 - val_loss: 0.3724 - val_acc: 0.8839\n",
      "Epoch 54/200\n",
      " - 0s - loss: 0.1925 - acc: 0.9576 - val_loss: 0.3663 - val_acc: 0.8750\n",
      "Epoch 55/200\n",
      " - 0s - loss: 0.1871 - acc: 0.9621 - val_loss: 0.3598 - val_acc: 0.8750\n",
      "Epoch 56/200\n",
      " - 0s - loss: 0.1845 - acc: 0.9531 - val_loss: 0.3717 - val_acc: 0.8750\n",
      "Epoch 57/200\n",
      " - 0s - loss: 0.1800 - acc: 0.9598 - val_loss: 0.3630 - val_acc: 0.8750\n",
      "Epoch 58/200\n",
      " - 0s - loss: 0.1775 - acc: 0.9576 - val_loss: 0.3526 - val_acc: 0.8839\n",
      "Epoch 59/200\n",
      " - 0s - loss: 0.1727 - acc: 0.9598 - val_loss: 0.3642 - val_acc: 0.8750\n",
      "Epoch 60/200\n",
      " - 0s - loss: 0.1708 - acc: 0.9621 - val_loss: 0.3550 - val_acc: 0.8929\n",
      "Epoch 61/200\n",
      " - 0s - loss: 0.1661 - acc: 0.9598 - val_loss: 0.3644 - val_acc: 0.8750\n",
      "Epoch 62/200\n",
      " - 0s - loss: 0.1632 - acc: 0.9643 - val_loss: 0.3602 - val_acc: 0.8750\n",
      "Epoch 63/200\n",
      " - 0s - loss: 0.1596 - acc: 0.9598 - val_loss: 0.3673 - val_acc: 0.8750\n",
      "Epoch 64/200\n",
      " - 0s - loss: 0.1579 - acc: 0.9598 - val_loss: 0.3530 - val_acc: 0.8929\n",
      "Epoch 65/200\n",
      " - 0s - loss: 0.1562 - acc: 0.9576 - val_loss: 0.3482 - val_acc: 0.8839\n",
      "Epoch 66/200\n",
      " - 0s - loss: 0.1540 - acc: 0.9554 - val_loss: 0.3561 - val_acc: 0.8929\n",
      "Epoch 67/200\n",
      " - 0s - loss: 0.1507 - acc: 0.9643 - val_loss: 0.3497 - val_acc: 0.8839\n",
      "Epoch 68/200\n",
      " - 0s - loss: 0.1452 - acc: 0.9643 - val_loss: 0.3537 - val_acc: 0.8839\n",
      "Epoch 69/200\n",
      " - 0s - loss: 0.1459 - acc: 0.9665 - val_loss: 0.3494 - val_acc: 0.8839\n",
      "Epoch 70/200\n",
      " - 0s - loss: 0.1422 - acc: 0.9621 - val_loss: 0.3531 - val_acc: 0.8839\n",
      "Epoch 71/200\n",
      " - 0s - loss: 0.1389 - acc: 0.9665 - val_loss: 0.3398 - val_acc: 0.8929\n",
      "Epoch 72/200\n",
      " - 0s - loss: 0.1366 - acc: 0.9665 - val_loss: 0.3481 - val_acc: 0.8839\n",
      "Epoch 73/200\n",
      " - 0s - loss: 0.1352 - acc: 0.9576 - val_loss: 0.3533 - val_acc: 0.8839\n",
      "Epoch 74/200\n",
      " - 0s - loss: 0.1345 - acc: 0.9643 - val_loss: 0.3394 - val_acc: 0.8929\n",
      "Epoch 75/200\n",
      " - 0s - loss: 0.1319 - acc: 0.9576 - val_loss: 0.3549 - val_acc: 0.8839\n",
      "Epoch 76/200\n",
      " - 0s - loss: 0.1336 - acc: 0.9688 - val_loss: 0.3438 - val_acc: 0.8929\n",
      "Epoch 77/200\n",
      " - 0s - loss: 0.1258 - acc: 0.9688 - val_loss: 0.3477 - val_acc: 0.8839\n",
      "Epoch 78/200\n",
      " - 0s - loss: 0.1244 - acc: 0.9643 - val_loss: 0.3447 - val_acc: 0.8839\n",
      "Epoch 79/200\n",
      " - 0s - loss: 0.1238 - acc: 0.9710 - val_loss: 0.3541 - val_acc: 0.8929\n",
      "Epoch 80/200\n",
      " - 0s - loss: 0.1215 - acc: 0.9710 - val_loss: 0.3458 - val_acc: 0.8839\n",
      "Epoch 81/200\n",
      " - 0s - loss: 0.1271 - acc: 0.9576 - val_loss: 0.3518 - val_acc: 0.8839\n",
      "Epoch 82/200\n",
      " - 0s - loss: 0.1197 - acc: 0.9665 - val_loss: 0.3444 - val_acc: 0.8839\n",
      "Epoch 83/200\n",
      " - 0s - loss: 0.1145 - acc: 0.9665 - val_loss: 0.3411 - val_acc: 0.8839\n",
      "Epoch 84/200\n",
      " - 0s - loss: 0.1152 - acc: 0.9665 - val_loss: 0.3383 - val_acc: 0.8929\n",
      "Epoch 85/200\n",
      " - 0s - loss: 0.1145 - acc: 0.9621 - val_loss: 0.3467 - val_acc: 0.9018\n",
      "Epoch 86/200\n",
      " - 0s - loss: 0.1114 - acc: 0.9688 - val_loss: 0.3441 - val_acc: 0.8929\n",
      "Epoch 87/200\n",
      " - 0s - loss: 0.1090 - acc: 0.9754 - val_loss: 0.3479 - val_acc: 0.8839\n",
      "Epoch 88/200\n",
      " - 0s - loss: 0.1086 - acc: 0.9643 - val_loss: 0.3465 - val_acc: 0.8929\n",
      "Epoch 89/200\n",
      " - 0s - loss: 0.1054 - acc: 0.9710 - val_loss: 0.3449 - val_acc: 0.8929\n",
      "Epoch 90/200\n",
      " - 0s - loss: 0.1053 - acc: 0.9688 - val_loss: 0.3423 - val_acc: 0.8929\n",
      "Epoch 91/200\n",
      " - 0s - loss: 0.1046 - acc: 0.9754 - val_loss: 0.3456 - val_acc: 0.9018\n",
      "Epoch 92/200\n",
      " - 0s - loss: 0.1039 - acc: 0.9688 - val_loss: 0.3395 - val_acc: 0.9018\n",
      "Epoch 93/200\n",
      " - 0s - loss: 0.1019 - acc: 0.9710 - val_loss: 0.3441 - val_acc: 0.9018\n",
      "Epoch 94/200\n",
      " - 0s - loss: 0.1011 - acc: 0.9688 - val_loss: 0.3502 - val_acc: 0.8839\n",
      "Epoch 95/200\n",
      " - 0s - loss: 0.0987 - acc: 0.9710 - val_loss: 0.3431 - val_acc: 0.9018\n",
      "Epoch 96/200\n",
      " - 0s - loss: 0.0961 - acc: 0.9777 - val_loss: 0.3512 - val_acc: 0.9018\n"
     ]
    },
    {
     "name": "stdout",
     "output_type": "stream",
     "text": [
      "Epoch 97/200\n",
      " - 0s - loss: 0.0970 - acc: 0.9710 - val_loss: 0.3492 - val_acc: 0.8839\n",
      "Epoch 98/200\n",
      " - 0s - loss: 0.0951 - acc: 0.9732 - val_loss: 0.3433 - val_acc: 0.8929\n",
      "Epoch 99/200\n",
      " - 0s - loss: 0.0942 - acc: 0.9732 - val_loss: 0.3420 - val_acc: 0.9018\n",
      "Epoch 100/200\n",
      " - 0s - loss: 0.0934 - acc: 0.9799 - val_loss: 0.3497 - val_acc: 0.9018\n",
      "Epoch 101/200\n",
      " - 0s - loss: 0.0912 - acc: 0.9732 - val_loss: 0.3425 - val_acc: 0.9018\n",
      "Epoch 102/200\n",
      " - 0s - loss: 0.0900 - acc: 0.9754 - val_loss: 0.3534 - val_acc: 0.9018\n",
      "Epoch 103/200\n",
      " - 0s - loss: 0.0904 - acc: 0.9754 - val_loss: 0.3489 - val_acc: 0.8929\n",
      "Epoch 104/200\n",
      " - 0s - loss: 0.0887 - acc: 0.9754 - val_loss: 0.3467 - val_acc: 0.9018\n",
      "Epoch 105/200\n",
      " - 0s - loss: 0.0890 - acc: 0.9799 - val_loss: 0.3555 - val_acc: 0.8929\n",
      "Epoch 106/200\n",
      " - 0s - loss: 0.0854 - acc: 0.9732 - val_loss: 0.3429 - val_acc: 0.9018\n",
      "Epoch 107/200\n",
      " - 0s - loss: 0.0868 - acc: 0.9754 - val_loss: 0.3441 - val_acc: 0.9018\n",
      "Epoch 108/200\n",
      " - 0s - loss: 0.0861 - acc: 0.9777 - val_loss: 0.3472 - val_acc: 0.9018\n",
      "Epoch 109/200\n",
      " - 0s - loss: 0.0860 - acc: 0.9732 - val_loss: 0.3518 - val_acc: 0.8929\n",
      "Epoch 110/200\n",
      " - 0s - loss: 0.0832 - acc: 0.9799 - val_loss: 0.3577 - val_acc: 0.8929\n",
      "Epoch 111/200\n",
      " - 0s - loss: 0.0833 - acc: 0.9821 - val_loss: 0.3461 - val_acc: 0.9018\n",
      "Epoch 112/200\n",
      " - 0s - loss: 0.0822 - acc: 0.9777 - val_loss: 0.3460 - val_acc: 0.9018\n",
      "Epoch 113/200\n",
      " - 0s - loss: 0.0813 - acc: 0.9821 - val_loss: 0.3501 - val_acc: 0.9107\n",
      "Epoch 114/200\n",
      " - 0s - loss: 0.0793 - acc: 0.9799 - val_loss: 0.3487 - val_acc: 0.9018\n",
      "Epoch 115/200\n",
      " - 0s - loss: 0.0797 - acc: 0.9732 - val_loss: 0.3578 - val_acc: 0.9018\n",
      "Epoch 116/200\n",
      " - 0s - loss: 0.0795 - acc: 0.9844 - val_loss: 0.3453 - val_acc: 0.9018\n",
      "Epoch 117/200\n",
      " - 0s - loss: 0.0775 - acc: 0.9866 - val_loss: 0.3482 - val_acc: 0.9018\n",
      "Epoch 118/200\n",
      " - 0s - loss: 0.0770 - acc: 0.9821 - val_loss: 0.3559 - val_acc: 0.9018\n",
      "Epoch 119/200\n",
      " - 0s - loss: 0.0757 - acc: 0.9799 - val_loss: 0.3455 - val_acc: 0.9018\n",
      "Epoch 120/200\n",
      " - 0s - loss: 0.0741 - acc: 0.9844 - val_loss: 0.3585 - val_acc: 0.9018\n",
      "Epoch 121/200\n",
      " - 0s - loss: 0.0753 - acc: 0.9821 - val_loss: 0.3515 - val_acc: 0.9018\n",
      "Epoch 122/200\n",
      " - 0s - loss: 0.0743 - acc: 0.9844 - val_loss: 0.3459 - val_acc: 0.9107\n",
      "Epoch 123/200\n",
      " - 0s - loss: 0.0749 - acc: 0.9754 - val_loss: 0.3593 - val_acc: 0.9018\n",
      "Epoch 124/200\n",
      " - 0s - loss: 0.0728 - acc: 0.9821 - val_loss: 0.3557 - val_acc: 0.9018\n",
      "Epoch 125/200\n",
      " - 0s - loss: 0.0717 - acc: 0.9888 - val_loss: 0.3554 - val_acc: 0.9018\n",
      "Epoch 126/200\n",
      " - 0s - loss: 0.0721 - acc: 0.9821 - val_loss: 0.3536 - val_acc: 0.9018\n",
      "Epoch 127/200\n",
      " - 0s - loss: 0.0725 - acc: 0.9844 - val_loss: 0.3606 - val_acc: 0.9018\n",
      "Epoch 128/200\n",
      " - 0s - loss: 0.0699 - acc: 0.9799 - val_loss: 0.3474 - val_acc: 0.9018\n",
      "Epoch 129/200\n",
      " - 0s - loss: 0.0700 - acc: 0.9821 - val_loss: 0.3611 - val_acc: 0.9018\n",
      "Epoch 130/200\n",
      " - 0s - loss: 0.0687 - acc: 0.9866 - val_loss: 0.3580 - val_acc: 0.9018\n",
      "Epoch 131/200\n",
      " - 0s - loss: 0.0686 - acc: 0.9866 - val_loss: 0.3490 - val_acc: 0.9107\n",
      "Epoch 132/200\n",
      " - 0s - loss: 0.0676 - acc: 0.9888 - val_loss: 0.3545 - val_acc: 0.9018\n",
      "Epoch 133/200\n",
      " - 0s - loss: 0.0666 - acc: 0.9799 - val_loss: 0.3604 - val_acc: 0.9107\n",
      "Epoch 134/200\n",
      " - 0s - loss: 0.0687 - acc: 0.9821 - val_loss: 0.3518 - val_acc: 0.9018\n",
      "Epoch 135/200\n",
      " - 0s - loss: 0.0676 - acc: 0.9844 - val_loss: 0.3582 - val_acc: 0.9107\n",
      "Epoch 136/200\n",
      " - 0s - loss: 0.0663 - acc: 0.9888 - val_loss: 0.3642 - val_acc: 0.9018\n",
      "Epoch 137/200\n",
      " - 0s - loss: 0.0657 - acc: 0.9844 - val_loss: 0.3568 - val_acc: 0.9018\n",
      "Epoch 138/200\n",
      " - 0s - loss: 0.0633 - acc: 0.9844 - val_loss: 0.3537 - val_acc: 0.9018\n",
      "Epoch 139/200\n",
      " - 0s - loss: 0.0654 - acc: 0.9844 - val_loss: 0.3499 - val_acc: 0.9107\n",
      "Epoch 140/200\n",
      " - 0s - loss: 0.0649 - acc: 0.9866 - val_loss: 0.3550 - val_acc: 0.9107\n",
      "Epoch 141/200\n",
      " - 0s - loss: 0.0634 - acc: 0.9888 - val_loss: 0.3592 - val_acc: 0.9018\n",
      "Epoch 142/200\n",
      " - 0s - loss: 0.0638 - acc: 0.9844 - val_loss: 0.3569 - val_acc: 0.9018\n",
      "Epoch 143/200\n",
      " - 0s - loss: 0.0631 - acc: 0.9821 - val_loss: 0.3680 - val_acc: 0.9018\n",
      "Epoch 144/200\n",
      " - 0s - loss: 0.0632 - acc: 0.9844 - val_loss: 0.3607 - val_acc: 0.9018\n",
      "Epoch 145/200\n",
      " - 0s - loss: 0.0622 - acc: 0.9844 - val_loss: 0.3632 - val_acc: 0.9018\n",
      "Epoch 146/200\n",
      " - 0s - loss: 0.0599 - acc: 0.9866 - val_loss: 0.3626 - val_acc: 0.9018\n",
      "Epoch 147/200\n",
      " - 0s - loss: 0.0597 - acc: 0.9866 - val_loss: 0.3648 - val_acc: 0.9107\n",
      "Epoch 148/200\n",
      " - 0s - loss: 0.0600 - acc: 0.9888 - val_loss: 0.3642 - val_acc: 0.9018\n",
      "Epoch 149/200\n",
      " - 0s - loss: 0.0605 - acc: 0.9866 - val_loss: 0.3668 - val_acc: 0.9107\n",
      "Epoch 150/200\n",
      " - 0s - loss: 0.0588 - acc: 0.9844 - val_loss: 0.3542 - val_acc: 0.9018\n",
      "Epoch 151/200\n",
      " - 0s - loss: 0.0584 - acc: 0.9866 - val_loss: 0.3686 - val_acc: 0.9107\n",
      "Epoch 152/200\n",
      " - 0s - loss: 0.0584 - acc: 0.9821 - val_loss: 0.3635 - val_acc: 0.9018\n",
      "Epoch 153/200\n",
      " - 0s - loss: 0.0582 - acc: 0.9888 - val_loss: 0.3620 - val_acc: 0.9107\n",
      "Epoch 154/200\n",
      " - 0s - loss: 0.0574 - acc: 0.9844 - val_loss: 0.3601 - val_acc: 0.9018\n",
      "Epoch 155/200\n",
      " - 0s - loss: 0.0567 - acc: 0.9866 - val_loss: 0.3614 - val_acc: 0.9018\n",
      "Epoch 156/200\n",
      " - 0s - loss: 0.0567 - acc: 0.9866 - val_loss: 0.3765 - val_acc: 0.9018\n",
      "Epoch 157/200\n",
      " - 0s - loss: 0.0567 - acc: 0.9866 - val_loss: 0.3663 - val_acc: 0.9018\n",
      "Epoch 158/200\n",
      " - 0s - loss: 0.0558 - acc: 0.9866 - val_loss: 0.3727 - val_acc: 0.9107\n",
      "Epoch 159/200\n",
      " - 0s - loss: 0.0565 - acc: 0.9844 - val_loss: 0.3620 - val_acc: 0.9107\n",
      "Epoch 160/200\n",
      " - 0s - loss: 0.0577 - acc: 0.9888 - val_loss: 0.3590 - val_acc: 0.9107\n",
      "Epoch 161/200\n",
      " - 0s - loss: 0.0567 - acc: 0.9844 - val_loss: 0.3883 - val_acc: 0.8839\n",
      "Epoch 162/200\n",
      " - 0s - loss: 0.0535 - acc: 0.9888 - val_loss: 0.3531 - val_acc: 0.9107\n",
      "Epoch 163/200\n",
      " - 0s - loss: 0.0539 - acc: 0.9911 - val_loss: 0.3680 - val_acc: 0.9018\n",
      "Epoch 164/200\n",
      " - 0s - loss: 0.0529 - acc: 0.9911 - val_loss: 0.3674 - val_acc: 0.9107\n",
      "Epoch 165/200\n",
      " - 0s - loss: 0.0540 - acc: 0.9844 - val_loss: 0.3785 - val_acc: 0.9018\n",
      "Epoch 166/200\n",
      " - 0s - loss: 0.0525 - acc: 0.9844 - val_loss: 0.3666 - val_acc: 0.9107\n",
      "Epoch 167/200\n",
      " - 0s - loss: 0.0532 - acc: 0.9888 - val_loss: 0.3703 - val_acc: 0.9107\n",
      "Epoch 168/200\n",
      " - 0s - loss: 0.0519 - acc: 0.9888 - val_loss: 0.3656 - val_acc: 0.9018\n",
      "Epoch 169/200\n",
      " - 0s - loss: 0.0540 - acc: 0.9888 - val_loss: 0.3691 - val_acc: 0.9018\n",
      "Epoch 170/200\n",
      " - 0s - loss: 0.0528 - acc: 0.9888 - val_loss: 0.3742 - val_acc: 0.9018\n",
      "Epoch 171/200\n",
      " - 0s - loss: 0.0512 - acc: 0.9888 - val_loss: 0.3666 - val_acc: 0.9018\n",
      "Epoch 172/200\n",
      " - 0s - loss: 0.0506 - acc: 0.9888 - val_loss: 0.3744 - val_acc: 0.9018\n",
      "Epoch 173/200\n",
      " - 0s - loss: 0.0506 - acc: 0.9888 - val_loss: 0.3769 - val_acc: 0.9018\n",
      "Epoch 174/200\n",
      " - 0s - loss: 0.0494 - acc: 0.9911 - val_loss: 0.3788 - val_acc: 0.9107\n",
      "Epoch 175/200\n",
      " - 0s - loss: 0.0520 - acc: 0.9844 - val_loss: 0.3705 - val_acc: 0.9107\n",
      "Epoch 176/200\n",
      " - 0s - loss: 0.0498 - acc: 0.9911 - val_loss: 0.3791 - val_acc: 0.9018\n",
      "Epoch 177/200\n",
      " - 0s - loss: 0.0491 - acc: 0.9933 - val_loss: 0.3779 - val_acc: 0.9107\n",
      "Epoch 178/200\n",
      " - 0s - loss: 0.0481 - acc: 0.9888 - val_loss: 0.3637 - val_acc: 0.9107\n",
      "Epoch 179/200\n",
      " - 0s - loss: 0.0502 - acc: 0.9866 - val_loss: 0.3714 - val_acc: 0.8929\n",
      "Epoch 180/200\n",
      " - 0s - loss: 0.0499 - acc: 0.9888 - val_loss: 0.3802 - val_acc: 0.9107\n",
      "Epoch 181/200\n",
      " - 0s - loss: 0.0473 - acc: 0.9955 - val_loss: 0.3693 - val_acc: 0.9018\n",
      "Epoch 182/200\n",
      " - 0s - loss: 0.0473 - acc: 0.9888 - val_loss: 0.3748 - val_acc: 0.9018\n",
      "Epoch 183/200\n",
      " - 0s - loss: 0.0478 - acc: 0.9911 - val_loss: 0.3792 - val_acc: 0.9107\n",
      "Epoch 184/200\n",
      " - 0s - loss: 0.0467 - acc: 0.9911 - val_loss: 0.3820 - val_acc: 0.9018\n",
      "Epoch 185/200\n",
      " - 0s - loss: 0.0475 - acc: 0.9911 - val_loss: 0.3771 - val_acc: 0.9107\n",
      "Epoch 186/200\n",
      " - 0s - loss: 0.0452 - acc: 0.9933 - val_loss: 0.3783 - val_acc: 0.9018\n",
      "Epoch 187/200\n",
      " - 0s - loss: 0.0459 - acc: 0.9933 - val_loss: 0.3830 - val_acc: 0.9018\n",
      "Epoch 188/200\n",
      " - 0s - loss: 0.0453 - acc: 0.9911 - val_loss: 0.3699 - val_acc: 0.9107\n",
      "Epoch 189/200\n",
      " - 0s - loss: 0.0450 - acc: 0.9933 - val_loss: 0.3769 - val_acc: 0.9107\n",
      "Epoch 190/200\n",
      " - 0s - loss: 0.0446 - acc: 0.9911 - val_loss: 0.3727 - val_acc: 0.9018\n",
      "Epoch 191/200\n",
      " - 0s - loss: 0.0447 - acc: 0.9866 - val_loss: 0.3803 - val_acc: 0.9018\n",
      "Epoch 192/200\n",
      " - 0s - loss: 0.0461 - acc: 0.9933 - val_loss: 0.3777 - val_acc: 0.9018\n"
     ]
    },
    {
     "name": "stdout",
     "output_type": "stream",
     "text": [
      "Epoch 193/200\n",
      " - 0s - loss: 0.0454 - acc: 0.9933 - val_loss: 0.3707 - val_acc: 0.9018\n",
      "Epoch 194/200\n",
      " - 0s - loss: 0.0442 - acc: 0.9888 - val_loss: 0.3840 - val_acc: 0.9018\n",
      "Epoch 195/200\n",
      " - 0s - loss: 0.0458 - acc: 0.9911 - val_loss: 0.3712 - val_acc: 0.8929\n",
      "Epoch 196/200\n",
      " - 0s - loss: 0.0439 - acc: 0.9933 - val_loss: 0.3761 - val_acc: 0.9018\n",
      "Epoch 197/200\n",
      " - 0s - loss: 0.0465 - acc: 0.9866 - val_loss: 0.3798 - val_acc: 0.8929\n",
      "Epoch 198/200\n",
      " - 0s - loss: 0.0456 - acc: 0.9911 - val_loss: 0.3747 - val_acc: 0.9018\n",
      "Epoch 199/200\n",
      " - 0s - loss: 0.0450 - acc: 0.9866 - val_loss: 0.3851 - val_acc: 0.8929\n",
      "Epoch 200/200\n",
      " - 0s - loss: 0.0437 - acc: 0.9911 - val_loss: 0.3837 - val_acc: 0.9018\n"
     ]
    }
   ],
   "source": [
    "history= model.fit(xtrain, ytrain, epochs=200, validation_split=0.2, verbose=2)"
   ]
  },
  {
   "cell_type": "code",
   "execution_count": 11,
   "metadata": {},
   "outputs": [
    {
     "name": "stdout",
     "output_type": "stream",
     "text": [
      "Epoch 1/100\n",
      "241/241 [==============================] - 0s 145us/step - loss: 0.2628 - acc: 0.9129\n",
      "Epoch 2/100\n",
      "241/241 [==============================] - 0s 73us/step - loss: 0.1901 - acc: 0.9212\n",
      "Epoch 3/100\n",
      "241/241 [==============================] - 0s 73us/step - loss: 0.1596 - acc: 0.9502\n",
      "Epoch 4/100\n",
      "241/241 [==============================] - 0s 62us/step - loss: 0.1370 - acc: 0.9710\n",
      "Epoch 5/100\n",
      "241/241 [==============================] - 0s 52us/step - loss: 0.1204 - acc: 0.9710\n",
      "Epoch 6/100\n",
      "241/241 [==============================] - 0s 52us/step - loss: 0.1091 - acc: 0.9751\n",
      "Epoch 7/100\n",
      "241/241 [==============================] - 0s 52us/step - loss: 0.0991 - acc: 0.9793\n",
      "Epoch 8/100\n",
      "241/241 [==============================] - 0s 52us/step - loss: 0.0905 - acc: 0.9793\n",
      "Epoch 9/100\n",
      "241/241 [==============================] - 0s 73us/step - loss: 0.0869 - acc: 0.9793\n",
      "Epoch 10/100\n",
      "241/241 [==============================] - 0s 62us/step - loss: 0.0812 - acc: 0.9751\n",
      "Epoch 11/100\n",
      "241/241 [==============================] - 0s 62us/step - loss: 0.0761 - acc: 0.9751\n",
      "Epoch 12/100\n",
      "241/241 [==============================] - 0s 52us/step - loss: 0.0712 - acc: 0.9751\n",
      "Epoch 13/100\n",
      "241/241 [==============================] - 0s 52us/step - loss: 0.0702 - acc: 0.9751\n",
      "Epoch 14/100\n",
      "241/241 [==============================] - 0s 62us/step - loss: 0.0670 - acc: 0.9834\n",
      "Epoch 15/100\n",
      "241/241 [==============================] - 0s 62us/step - loss: 0.0657 - acc: 0.9834\n",
      "Epoch 16/100\n",
      "241/241 [==============================] - 0s 62us/step - loss: 0.0618 - acc: 0.9793\n",
      "Epoch 17/100\n",
      "241/241 [==============================] - 0s 93us/step - loss: 0.0587 - acc: 0.9834\n",
      "Epoch 18/100\n",
      "241/241 [==============================] - 0s 62us/step - loss: 0.0590 - acc: 0.9834\n",
      "Epoch 19/100\n",
      "241/241 [==============================] - 0s 83us/step - loss: 0.0559 - acc: 0.9876\n",
      "Epoch 20/100\n",
      "241/241 [==============================] - 0s 52us/step - loss: 0.0552 - acc: 0.9876\n",
      "Epoch 21/100\n",
      "241/241 [==============================] - 0s 73us/step - loss: 0.0557 - acc: 0.9834\n",
      "Epoch 22/100\n",
      "241/241 [==============================] - 0s 62us/step - loss: 0.0512 - acc: 0.9834\n",
      "Epoch 23/100\n",
      "241/241 [==============================] - 0s 73us/step - loss: 0.0525 - acc: 0.9876\n",
      "Epoch 24/100\n",
      "241/241 [==============================] - 0s 62us/step - loss: 0.0499 - acc: 0.9834\n",
      "Epoch 25/100\n",
      "241/241 [==============================] - 0s 73us/step - loss: 0.0489 - acc: 0.9876\n",
      "Epoch 26/100\n",
      "241/241 [==============================] - 0s 73us/step - loss: 0.0471 - acc: 0.9876\n",
      "Epoch 27/100\n",
      "241/241 [==============================] - 0s 62us/step - loss: 0.0476 - acc: 0.9876\n",
      "Epoch 28/100\n",
      "241/241 [==============================] - 0s 73us/step - loss: 0.0481 - acc: 0.9876\n",
      "Epoch 29/100\n",
      "241/241 [==============================] - 0s 52us/step - loss: 0.0454 - acc: 0.9876\n",
      "Epoch 30/100\n",
      "241/241 [==============================] - 0s 62us/step - loss: 0.0445 - acc: 0.9876\n",
      "Epoch 31/100\n",
      "241/241 [==============================] - 0s 62us/step - loss: 0.0444 - acc: 0.9876\n",
      "Epoch 32/100\n",
      "241/241 [==============================] - 0s 52us/step - loss: 0.0433 - acc: 0.9876\n",
      "Epoch 33/100\n",
      "241/241 [==============================] - 0s 62us/step - loss: 0.0440 - acc: 0.9876\n",
      "Epoch 34/100\n",
      "241/241 [==============================] - 0s 73us/step - loss: 0.0440 - acc: 0.9917\n",
      "Epoch 35/100\n",
      "241/241 [==============================] - 0s 62us/step - loss: 0.0417 - acc: 0.9876\n",
      "Epoch 36/100\n",
      "241/241 [==============================] - 0s 83us/step - loss: 0.0430 - acc: 0.9876\n",
      "Epoch 37/100\n",
      "241/241 [==============================] - 0s 73us/step - loss: 0.0402 - acc: 0.9876\n",
      "Epoch 38/100\n",
      "241/241 [==============================] - 0s 62us/step - loss: 0.0414 - acc: 0.9917\n",
      "Epoch 39/100\n",
      "241/241 [==============================] - 0s 83us/step - loss: 0.0405 - acc: 0.9917\n",
      "Epoch 40/100\n",
      "241/241 [==============================] - 0s 52us/step - loss: 0.0420 - acc: 0.9876\n",
      "Epoch 41/100\n",
      "241/241 [==============================] - 0s 62us/step - loss: 0.0387 - acc: 0.9876\n",
      "Epoch 42/100\n",
      "241/241 [==============================] - 0s 62us/step - loss: 0.0396 - acc: 0.9917\n",
      "Epoch 43/100\n",
      "241/241 [==============================] - 0s 62us/step - loss: 0.0384 - acc: 0.9917\n",
      "Epoch 44/100\n",
      "241/241 [==============================] - 0s 73us/step - loss: 0.0391 - acc: 0.9876\n",
      "Epoch 45/100\n",
      "241/241 [==============================] - 0s 62us/step - loss: 0.0367 - acc: 0.9917\n",
      "Epoch 46/100\n",
      "241/241 [==============================] - 0s 62us/step - loss: 0.0366 - acc: 0.9917\n",
      "Epoch 47/100\n",
      "241/241 [==============================] - 0s 62us/step - loss: 0.0365 - acc: 0.9917\n",
      "Epoch 48/100\n",
      "241/241 [==============================] - 0s 62us/step - loss: 0.0369 - acc: 0.9917\n",
      "Epoch 49/100\n",
      "241/241 [==============================] - 0s 62us/step - loss: 0.0355 - acc: 0.9917\n",
      "Epoch 50/100\n",
      "241/241 [==============================] - ETA: 0s - loss: 0.0156 - acc: 1.000 - 0s 52us/step - loss: 0.0356 - acc: 0.9917\n",
      "Epoch 51/100\n",
      "241/241 [==============================] - 0s 73us/step - loss: 0.0359 - acc: 0.9917\n",
      "Epoch 52/100\n",
      "241/241 [==============================] - 0s 62us/step - loss: 0.0347 - acc: 0.9917\n",
      "Epoch 53/100\n",
      "241/241 [==============================] - 0s 62us/step - loss: 0.0351 - acc: 0.9917\n",
      "Epoch 54/100\n",
      "241/241 [==============================] - 0s 83us/step - loss: 0.0349 - acc: 0.9876\n",
      "Epoch 55/100\n",
      "241/241 [==============================] - 0s 62us/step - loss: 0.0341 - acc: 0.9917\n",
      "Epoch 56/100\n",
      "241/241 [==============================] - ETA: 0s - loss: 0.0818 - acc: 0.937 - 0s 62us/step - loss: 0.0336 - acc: 0.9917\n",
      "Epoch 57/100\n",
      "241/241 [==============================] - 0s 73us/step - loss: 0.0335 - acc: 0.9917\n",
      "Epoch 58/100\n",
      "241/241 [==============================] - 0s 62us/step - loss: 0.0336 - acc: 0.9917\n",
      "Epoch 59/100\n",
      "241/241 [==============================] - 0s 52us/step - loss: 0.0330 - acc: 0.9959\n",
      "Epoch 60/100\n",
      "241/241 [==============================] - 0s 52us/step - loss: 0.0327 - acc: 0.9917\n",
      "Epoch 61/100\n",
      "241/241 [==============================] - 0s 52us/step - loss: 0.0329 - acc: 0.9917\n",
      "Epoch 62/100\n",
      "241/241 [==============================] - 0s 62us/step - loss: 0.0335 - acc: 0.9917\n",
      "Epoch 63/100\n",
      "241/241 [==============================] - 0s 83us/step - loss: 0.0313 - acc: 0.9917\n",
      "Epoch 64/100\n",
      "241/241 [==============================] - 0s 52us/step - loss: 0.0325 - acc: 0.9917\n",
      "Epoch 65/100\n",
      "241/241 [==============================] - 0s 52us/step - loss: 0.0314 - acc: 0.9917\n",
      "Epoch 66/100\n",
      "241/241 [==============================] - 0s 73us/step - loss: 0.0312 - acc: 0.9917\n",
      "Epoch 67/100\n",
      "241/241 [==============================] - 0s 52us/step - loss: 0.0306 - acc: 0.9917\n",
      "Epoch 68/100\n",
      "241/241 [==============================] - 0s 73us/step - loss: 0.0303 - acc: 0.9917\n",
      "Epoch 69/100\n",
      "241/241 [==============================] - 0s 52us/step - loss: 0.0304 - acc: 0.9917\n",
      "Epoch 70/100\n",
      "241/241 [==============================] - 0s 52us/step - loss: 0.0313 - acc: 0.9917\n",
      "Epoch 71/100\n",
      "241/241 [==============================] - 0s 73us/step - loss: 0.0307 - acc: 0.9917\n",
      "Epoch 72/100\n",
      "241/241 [==============================] - 0s 62us/step - loss: 0.0302 - acc: 0.9917\n",
      "Epoch 73/100\n",
      "241/241 [==============================] - 0s 52us/step - loss: 0.0297 - acc: 0.9917\n",
      "Epoch 74/100\n",
      "241/241 [==============================] - 0s 73us/step - loss: 0.0300 - acc: 0.9917\n",
      "Epoch 75/100\n",
      "241/241 [==============================] - ETA: 0s - loss: 0.0201 - acc: 1.000 - 0s 62us/step - loss: 0.0293 - acc: 0.9917\n",
      "Epoch 76/100\n",
      "241/241 [==============================] - 0s 62us/step - loss: 0.0300 - acc: 0.9917\n",
      "Epoch 77/100\n",
      "241/241 [==============================] - 0s 62us/step - loss: 0.0293 - acc: 0.9917\n",
      "Epoch 78/100\n",
      "241/241 [==============================] - 0s 62us/step - loss: 0.0289 - acc: 0.9917\n",
      "Epoch 79/100\n",
      "241/241 [==============================] - 0s 62us/step - loss: 0.0289 - acc: 0.9917\n",
      "Epoch 80/100\n",
      "241/241 [==============================] - 0s 62us/step - loss: 0.0291 - acc: 0.9917\n",
      "Epoch 81/100\n",
      "241/241 [==============================] - 0s 52us/step - loss: 0.0286 - acc: 0.9917\n",
      "Epoch 82/100\n",
      "241/241 [==============================] - 0s 62us/step - loss: 0.0283 - acc: 0.9917\n",
      "Epoch 83/100\n",
      "241/241 [==============================] - 0s 62us/step - loss: 0.0278 - acc: 0.9917\n",
      "Epoch 84/100\n",
      "241/241 [==============================] - 0s 62us/step - loss: 0.0278 - acc: 0.9917\n",
      "Epoch 85/100\n",
      "241/241 [==============================] - 0s 52us/step - loss: 0.0280 - acc: 0.9917\n",
      "Epoch 86/100\n",
      "241/241 [==============================] - 0s 73us/step - loss: 0.0291 - acc: 0.9917\n",
      "Epoch 87/100\n",
      "241/241 [==============================] - 0s 52us/step - loss: 0.0279 - acc: 0.9917\n",
      "Epoch 88/100\n",
      "241/241 [==============================] - 0s 62us/step - loss: 0.0283 - acc: 0.9917\n",
      "Epoch 89/100\n",
      "241/241 [==============================] - 0s 62us/step - loss: 0.0270 - acc: 0.9917\n",
      "Epoch 90/100\n",
      "241/241 [==============================] - 0s 73us/step - loss: 0.0271 - acc: 0.9917\n",
      "Epoch 91/100\n",
      "241/241 [==============================] - 0s 62us/step - loss: 0.0275 - acc: 0.9917\n",
      "Epoch 92/100\n",
      "241/241 [==============================] - 0s 73us/step - loss: 0.0270 - acc: 0.9959\n",
      "Epoch 93/100\n",
      "241/241 [==============================] - 0s 73us/step - loss: 0.0258 - acc: 0.9917\n",
      "Epoch 94/100\n",
      "241/241 [==============================] - 0s 73us/step - loss: 0.0262 - acc: 0.9917\n",
      "Epoch 95/100\n",
      "241/241 [==============================] - 0s 52us/step - loss: 0.0260 - acc: 0.9917\n",
      "Epoch 96/100\n",
      "241/241 [==============================] - 0s 52us/step - loss: 0.0263 - acc: 0.9917\n",
      "Epoch 97/100\n",
      "241/241 [==============================] - 0s 62us/step - loss: 0.0258 - acc: 0.9917\n",
      "Epoch 98/100\n",
      "241/241 [==============================] - 0s 73us/step - loss: 0.0255 - acc: 0.9959\n",
      "Epoch 99/100\n",
      "241/241 [==============================] - 0s 52us/step - loss: 0.0256 - acc: 0.9917\n",
      "Epoch 100/100\n",
      "241/241 [==============================] - 0s 62us/step - loss: 0.0256 - acc: 0.9917\n"
     ]
    },
    {
     "data": {
      "text/plain": [
       "<keras.callbacks.History at 0xe858898>"
      ]
     },
     "execution_count": 11,
     "metadata": {},
     "output_type": "execute_result"
    }
   ],
   "source": [
    "model.fit(xtest,ytest,epochs=100)"
   ]
  },
  {
   "cell_type": "code",
   "execution_count": 12,
   "metadata": {},
   "outputs": [
    {
     "data": {
      "text/plain": [
       "[<matplotlib.lines.Line2D at 0xf4ef3c8>]"
      ]
     },
     "execution_count": 12,
     "metadata": {},
     "output_type": "execute_result"
    },
    {
     "data": {
      "image/png": "[encoded data removed]",
      "text/plain": [
       "<Figure size 432x288 with 1 Axes>"
      ]
     },
     "metadata": {},
     "output_type": "display_data"
    }
   ],
   "source": [
    "plt.plot(history.epoch, history.history['loss'], 'g')\n",
    "plt.plot(history.epoch, history.history['val_loss'],'r')"
   ]
  },
  {
   "cell_type": "code",
   "execution_count": 13,
   "metadata": {},
   "outputs": [
    {
     "name": "stdout",
     "output_type": "stream",
     "text": [
      "241/241 [==============================] - 0s 145us/step\n",
      "0.995850622406639\n"
     ]
    }
   ],
   "source": [
    "loss, accuracy = model.evaluate(xtest,ytest)\n",
    "print(accuracy)"
   ]
  },
  {
   "cell_type": "markdown",
   "metadata": {},
   "source": [
    "The neural network gives an accuracy of 99.5% on the test dataset for type1. The training set is divided as training and validation sets where 80% is for training the data and 20% is for validating the data. The above graph compares the training and validation losses. "
   ]
  },
  {
   "cell_type": "markdown",
   "metadata": {},
   "source": [
    "Let us now build a model for predicting the legendary type of pokemon. "
   ]
  },
  {
   "cell_type": "code",
   "execution_count": 55,
   "metadata": {},
   "outputs": [],
   "source": [
    "features2= pd.DataFrame(features.iloc[:,245:-2])\n",
    "features2=features2.drop(['capture_rate'],axis=1)\n",
    "features2=(features2-features2.min())/(features2.max()-features2.min())\n",
    "features2=np.array(features2)"
   ]
  },
  {
   "cell_type": "code",
   "execution_count": 22,
   "metadata": {},
   "outputs": [],
   "source": [
    "target2=pd.DataFrame(newdf['is_legendary'])\n",
    "target=np.array(target2)\n",
    "#since is_legendary contains only integers, they are converted into cateogrical values \n",
    "from keras.utils import to_categorical\n",
    "target = to_categorical(target)\n",
    "xtrain, xtest, ytrain, ytest = train_test_split(features2,target, test_size=0.3)\n",
    "\n",
    "\n"
   ]
  },
  {
   "cell_type": "code",
   "execution_count": 23,
   "metadata": {},
   "outputs": [],
   "source": [
    "model = keras.Sequential([\n",
    "    keras.layers.Dense(106, activation=tf.nn.tanh,\n",
    "                       input_shape=(xtrain.shape[1],)),\n",
    "    keras.layers.Dense(67, activation=tf.nn.tanh),\n",
    "    keras.layers.Dense(2, activation=tf.nn.softmax)\n",
    "])\n",
    "\n"
   ]
  },
  {
   "cell_type": "code",
   "execution_count": 24,
   "metadata": {},
   "outputs": [],
   "source": [
    "sgd = SGD(lr=0.0001, decay=1e-6, momentum=0.9, nesterov=True)\n",
    "model.compile(loss='categorical_crossentropy',\n",
    "              optimizer=sgd,\n",
    "              metrics=['accuracy'])"
   ]
  },
  {
   "cell_type": "code",
   "execution_count": 33,
   "metadata": {},
   "outputs": [
    {
     "name": "stdout",
     "output_type": "stream",
     "text": [
      "Train on 448 samples, validate on 112 samples\n",
      "Epoch 1/200\n",
      " - 0s - loss: 0.2061 - acc: 0.9196 - val_loss: 0.2802 - val_acc: 0.8750\n",
      "Epoch 2/200\n",
      " - 0s - loss: 0.2056 - acc: 0.9196 - val_loss: 0.2791 - val_acc: 0.8750\n",
      "Epoch 3/200\n",
      " - 0s - loss: 0.2049 - acc: 0.9196 - val_loss: 0.2785 - val_acc: 0.8750\n",
      "Epoch 4/200\n",
      " - 0s - loss: 0.2044 - acc: 0.9196 - val_loss: 0.2777 - val_acc: 0.8750\n",
      "Epoch 5/200\n",
      " - 0s - loss: 0.2039 - acc: 0.9196 - val_loss: 0.2768 - val_acc: 0.8750\n",
      "Epoch 6/200\n",
      " - 0s - loss: 0.2033 - acc: 0.9196 - val_loss: 0.2762 - val_acc: 0.8750\n",
      "Epoch 7/200\n",
      " - 0s - loss: 0.2027 - acc: 0.9196 - val_loss: 0.2753 - val_acc: 0.8750\n",
      "Epoch 8/200\n",
      " - 0s - loss: 0.2022 - acc: 0.9196 - val_loss: 0.2745 - val_acc: 0.8750\n",
      "Epoch 9/200\n",
      " - 0s - loss: 0.2017 - acc: 0.9196 - val_loss: 0.2737 - val_acc: 0.8750\n",
      "Epoch 10/200\n",
      " - 0s - loss: 0.2011 - acc: 0.9196 - val_loss: 0.2729 - val_acc: 0.8750\n",
      "Epoch 11/200\n",
      " - 0s - loss: 0.2006 - acc: 0.9196 - val_loss: 0.2723 - val_acc: 0.8750\n",
      "Epoch 12/200\n",
      " - 0s - loss: 0.2000 - acc: 0.9196 - val_loss: 0.2716 - val_acc: 0.8750\n",
      "Epoch 13/200\n",
      " - 0s - loss: 0.1995 - acc: 0.9196 - val_loss: 0.2708 - val_acc: 0.8750\n",
      "Epoch 14/200\n",
      " - 0s - loss: 0.1989 - acc: 0.9196 - val_loss: 0.2701 - val_acc: 0.8750\n",
      "Epoch 15/200\n",
      " - 0s - loss: 0.1984 - acc: 0.9196 - val_loss: 0.2694 - val_acc: 0.8750\n",
      "Epoch 16/200\n",
      " - 0s - loss: 0.1979 - acc: 0.9196 - val_loss: 0.2685 - val_acc: 0.8750\n",
      "Epoch 17/200\n",
      " - 0s - loss: 0.1973 - acc: 0.9196 - val_loss: 0.2678 - val_acc: 0.8750\n",
      "Epoch 18/200\n",
      " - 0s - loss: 0.1968 - acc: 0.9196 - val_loss: 0.2670 - val_acc: 0.8750\n",
      "Epoch 19/200\n",
      " - 0s - loss: 0.1963 - acc: 0.9196 - val_loss: 0.2663 - val_acc: 0.8750\n",
      "Epoch 20/200\n",
      " - 0s - loss: 0.1957 - acc: 0.9196 - val_loss: 0.2655 - val_acc: 0.8750\n",
      "Epoch 21/200\n",
      " - 0s - loss: 0.1952 - acc: 0.9196 - val_loss: 0.2648 - val_acc: 0.8750\n",
      "Epoch 22/200\n",
      " - 0s - loss: 0.1947 - acc: 0.9196 - val_loss: 0.2640 - val_acc: 0.8750\n",
      "Epoch 23/200\n",
      " - 0s - loss: 0.1941 - acc: 0.9196 - val_loss: 0.2634 - val_acc: 0.8750\n",
      "Epoch 24/200\n",
      " - 0s - loss: 0.1936 - acc: 0.9196 - val_loss: 0.2625 - val_acc: 0.8750\n",
      "Epoch 25/200\n",
      " - 0s - loss: 0.1931 - acc: 0.9196 - val_loss: 0.2620 - val_acc: 0.8750\n",
      "Epoch 26/200\n",
      " - 0s - loss: 0.1926 - acc: 0.9196 - val_loss: 0.2612 - val_acc: 0.8750\n",
      "Epoch 27/200\n",
      " - 0s - loss: 0.1920 - acc: 0.9196 - val_loss: 0.2604 - val_acc: 0.8750\n",
      "Epoch 28/200\n",
      " - 0s - loss: 0.1915 - acc: 0.9196 - val_loss: 0.2597 - val_acc: 0.8750\n",
      "Epoch 29/200\n",
      " - 0s - loss: 0.1910 - acc: 0.9196 - val_loss: 0.2589 - val_acc: 0.8750\n",
      "Epoch 30/200\n",
      " - 0s - loss: 0.1905 - acc: 0.9196 - val_loss: 0.2582 - val_acc: 0.8750\n",
      "Epoch 31/200\n",
      " - 0s - loss: 0.1899 - acc: 0.9196 - val_loss: 0.2575 - val_acc: 0.8750\n",
      "Epoch 32/200\n",
      " - 0s - loss: 0.1894 - acc: 0.9196 - val_loss: 0.2569 - val_acc: 0.8750\n",
      "Epoch 33/200\n",
      " - 0s - loss: 0.1889 - acc: 0.9196 - val_loss: 0.2562 - val_acc: 0.8750\n",
      "Epoch 34/200\n",
      " - 0s - loss: 0.1884 - acc: 0.9196 - val_loss: 0.2555 - val_acc: 0.8750\n",
      "Epoch 35/200\n",
      " - 0s - loss: 0.1879 - acc: 0.9196 - val_loss: 0.2547 - val_acc: 0.8750\n",
      "Epoch 36/200\n",
      " - 0s - loss: 0.1874 - acc: 0.9196 - val_loss: 0.2540 - val_acc: 0.8750\n",
      "Epoch 37/200\n",
      " - 0s - loss: 0.1869 - acc: 0.9196 - val_loss: 0.2532 - val_acc: 0.8750\n",
      "Epoch 38/200\n",
      " - 0s - loss: 0.1864 - acc: 0.9196 - val_loss: 0.2527 - val_acc: 0.8750\n",
      "Epoch 39/200\n",
      " - 0s - loss: 0.1859 - acc: 0.9196 - val_loss: 0.2520 - val_acc: 0.8750\n",
      "Epoch 40/200\n",
      " - 0s - loss: 0.1854 - acc: 0.9196 - val_loss: 0.2514 - val_acc: 0.8750\n",
      "Epoch 41/200\n",
      " - 0s - loss: 0.1849 - acc: 0.9196 - val_loss: 0.2505 - val_acc: 0.8750\n",
      "Epoch 42/200\n",
      " - 0s - loss: 0.1844 - acc: 0.9196 - val_loss: 0.2499 - val_acc: 0.8750\n",
      "Epoch 43/200\n",
      " - 0s - loss: 0.1839 - acc: 0.9196 - val_loss: 0.2491 - val_acc: 0.8750\n",
      "Epoch 44/200\n",
      " - 0s - loss: 0.1834 - acc: 0.9196 - val_loss: 0.2484 - val_acc: 0.8750\n",
      "Epoch 45/200\n",
      " - 0s - loss: 0.1829 - acc: 0.9196 - val_loss: 0.2477 - val_acc: 0.8750\n",
      "Epoch 46/200\n",
      " - 0s - loss: 0.1824 - acc: 0.9196 - val_loss: 0.2471 - val_acc: 0.8750\n",
      "Epoch 47/200\n",
      " - 0s - loss: 0.1819 - acc: 0.9196 - val_loss: 0.2464 - val_acc: 0.8750\n",
      "Epoch 48/200\n",
      " - 0s - loss: 0.1814 - acc: 0.9219 - val_loss: 0.2457 - val_acc: 0.8750\n",
      "Epoch 49/200\n",
      " - 0s - loss: 0.1809 - acc: 0.9241 - val_loss: 0.2452 - val_acc: 0.8750\n",
      "Epoch 50/200\n",
      " - 0s - loss: 0.1804 - acc: 0.9241 - val_loss: 0.2445 - val_acc: 0.8750\n",
      "Epoch 51/200\n",
      " - 0s - loss: 0.1799 - acc: 0.9241 - val_loss: 0.2436 - val_acc: 0.8750\n",
      "Epoch 52/200\n",
      " - 0s - loss: 0.1795 - acc: 0.9241 - val_loss: 0.2429 - val_acc: 0.8750\n",
      "Epoch 53/200\n",
      " - 0s - loss: 0.1789 - acc: 0.9241 - val_loss: 0.2424 - val_acc: 0.8750\n",
      "Epoch 54/200\n",
      " - 0s - loss: 0.1785 - acc: 0.9241 - val_loss: 0.2417 - val_acc: 0.8750\n",
      "Epoch 55/200\n",
      " - 0s - loss: 0.1780 - acc: 0.9241 - val_loss: 0.2410 - val_acc: 0.8750\n",
      "Epoch 56/200\n",
      " - 0s - loss: 0.1775 - acc: 0.9241 - val_loss: 0.2405 - val_acc: 0.8750\n",
      "Epoch 57/200\n",
      " - 0s - loss: 0.1770 - acc: 0.9241 - val_loss: 0.2397 - val_acc: 0.8750\n",
      "Epoch 58/200\n",
      " - 0s - loss: 0.1766 - acc: 0.9241 - val_loss: 0.2390 - val_acc: 0.8750\n",
      "Epoch 59/200\n",
      " - 0s - loss: 0.1761 - acc: 0.9263 - val_loss: 0.2384 - val_acc: 0.8750\n",
      "Epoch 60/200\n",
      " - 0s - loss: 0.1756 - acc: 0.9263 - val_loss: 0.2378 - val_acc: 0.8750\n",
      "Epoch 61/200\n",
      " - 0s - loss: 0.1751 - acc: 0.9263 - val_loss: 0.2372 - val_acc: 0.8750\n",
      "Epoch 62/200\n",
      " - 0s - loss: 0.1747 - acc: 0.9308 - val_loss: 0.2365 - val_acc: 0.8750\n",
      "Epoch 63/200\n",
      " - 0s - loss: 0.1742 - acc: 0.9353 - val_loss: 0.2358 - val_acc: 0.8750\n",
      "Epoch 64/200\n",
      " - 0s - loss: 0.1737 - acc: 0.9375 - val_loss: 0.2351 - val_acc: 0.8750\n",
      "Epoch 65/200\n",
      " - 0s - loss: 0.1732 - acc: 0.9375 - val_loss: 0.2346 - val_acc: 0.8750\n",
      "Epoch 66/200\n",
      " - 0s - loss: 0.1728 - acc: 0.9375 - val_loss: 0.2339 - val_acc: 0.8750\n",
      "Epoch 67/200\n",
      " - 0s - loss: 0.1723 - acc: 0.9375 - val_loss: 0.2333 - val_acc: 0.8750\n",
      "Epoch 68/200\n",
      " - 0s - loss: 0.1718 - acc: 0.9375 - val_loss: 0.2327 - val_acc: 0.8750\n",
      "Epoch 69/200\n",
      " - 0s - loss: 0.1714 - acc: 0.9375 - val_loss: 0.2320 - val_acc: 0.8839\n",
      "Epoch 70/200\n",
      " - 0s - loss: 0.1709 - acc: 0.9375 - val_loss: 0.2314 - val_acc: 0.8839\n",
      "Epoch 71/200\n",
      " - 0s - loss: 0.1705 - acc: 0.9375 - val_loss: 0.2308 - val_acc: 0.8839\n",
      "Epoch 72/200\n",
      " - 0s - loss: 0.1700 - acc: 0.9375 - val_loss: 0.2303 - val_acc: 0.8929\n",
      "Epoch 73/200\n",
      " - 0s - loss: 0.1696 - acc: 0.9375 - val_loss: 0.2296 - val_acc: 0.8929\n",
      "Epoch 74/200\n",
      " - 0s - loss: 0.1691 - acc: 0.9375 - val_loss: 0.2290 - val_acc: 0.8929\n",
      "Epoch 75/200\n",
      " - 0s - loss: 0.1687 - acc: 0.9375 - val_loss: 0.2284 - val_acc: 0.8929\n",
      "Epoch 76/200\n",
      " - 0s - loss: 0.1682 - acc: 0.9375 - val_loss: 0.2278 - val_acc: 0.8929\n",
      "Epoch 77/200\n",
      " - 0s - loss: 0.1678 - acc: 0.9397 - val_loss: 0.2271 - val_acc: 0.8929\n",
      "Epoch 78/200\n",
      " - 0s - loss: 0.1673 - acc: 0.9397 - val_loss: 0.2265 - val_acc: 0.8929\n",
      "Epoch 79/200\n",
      " - 0s - loss: 0.1669 - acc: 0.9420 - val_loss: 0.2259 - val_acc: 0.8929\n",
      "Epoch 80/200\n",
      " - 0s - loss: 0.1665 - acc: 0.9420 - val_loss: 0.2253 - val_acc: 0.9018\n",
      "Epoch 81/200\n",
      " - 0s - loss: 0.1660 - acc: 0.9420 - val_loss: 0.2248 - val_acc: 0.9018\n",
      "Epoch 82/200\n",
      " - 0s - loss: 0.1656 - acc: 0.9420 - val_loss: 0.2240 - val_acc: 0.9018\n",
      "Epoch 83/200\n",
      " - 0s - loss: 0.1651 - acc: 0.9420 - val_loss: 0.2235 - val_acc: 0.9018\n",
      "Epoch 84/200\n",
      " - 0s - loss: 0.1647 - acc: 0.9420 - val_loss: 0.2228 - val_acc: 0.9018\n",
      "Epoch 85/200\n",
      " - 0s - loss: 0.1643 - acc: 0.9442 - val_loss: 0.2225 - val_acc: 0.9018\n",
      "Epoch 86/200\n",
      " - 0s - loss: 0.1638 - acc: 0.9442 - val_loss: 0.2218 - val_acc: 0.9018\n",
      "Epoch 87/200\n",
      " - 0s - loss: 0.1634 - acc: 0.9442 - val_loss: 0.2212 - val_acc: 0.9018\n",
      "Epoch 88/200\n",
      " - 0s - loss: 0.1630 - acc: 0.9464 - val_loss: 0.2207 - val_acc: 0.9018\n",
      "Epoch 89/200\n",
      " - 0s - loss: 0.1626 - acc: 0.9464 - val_loss: 0.2200 - val_acc: 0.9018\n",
      "Epoch 90/200\n",
      " - 0s - loss: 0.1621 - acc: 0.9464 - val_loss: 0.2194 - val_acc: 0.9018\n",
      "Epoch 91/200\n",
      " - 0s - loss: 0.1617 - acc: 0.9464 - val_loss: 0.2189 - val_acc: 0.9018\n",
      "Epoch 92/200\n",
      " - 0s - loss: 0.1613 - acc: 0.9464 - val_loss: 0.2184 - val_acc: 0.9018\n",
      "Epoch 93/200\n",
      " - 0s - loss: 0.1609 - acc: 0.9464 - val_loss: 0.2176 - val_acc: 0.9018\n",
      "Epoch 94/200\n",
      " - 0s - loss: 0.1604 - acc: 0.9464 - val_loss: 0.2171 - val_acc: 0.9018\n",
      "Epoch 95/200\n",
      " - 0s - loss: 0.1600 - acc: 0.9487 - val_loss: 0.2165 - val_acc: 0.9018\n",
      "Epoch 96/200\n",
      " - 0s - loss: 0.1597 - acc: 0.9487 - val_loss: 0.2159 - val_acc: 0.9018\n"
     ]
    },
    {
     "name": "stdout",
     "output_type": "stream",
     "text": [
      "Epoch 97/200\n",
      " - 0s - loss: 0.1592 - acc: 0.9487 - val_loss: 0.2154 - val_acc: 0.9018\n",
      "Epoch 98/200\n",
      " - 0s - loss: 0.1588 - acc: 0.9487 - val_loss: 0.2148 - val_acc: 0.9107\n",
      "Epoch 99/200\n",
      " - 0s - loss: 0.1584 - acc: 0.9509 - val_loss: 0.2143 - val_acc: 0.9107\n",
      "Epoch 100/200\n",
      " - 0s - loss: 0.1580 - acc: 0.9509 - val_loss: 0.2139 - val_acc: 0.9107\n",
      "Epoch 101/200\n",
      " - 0s - loss: 0.1576 - acc: 0.9509 - val_loss: 0.2133 - val_acc: 0.9196\n",
      "Epoch 102/200\n",
      " - 0s - loss: 0.1572 - acc: 0.9509 - val_loss: 0.2127 - val_acc: 0.9196\n",
      "Epoch 103/200\n",
      " - 0s - loss: 0.1568 - acc: 0.9509 - val_loss: 0.2123 - val_acc: 0.9196\n",
      "Epoch 104/200\n",
      " - 0s - loss: 0.1564 - acc: 0.9509 - val_loss: 0.2117 - val_acc: 0.9196\n",
      "Epoch 105/200\n",
      " - 0s - loss: 0.1560 - acc: 0.9509 - val_loss: 0.2110 - val_acc: 0.9196\n",
      "Epoch 106/200\n",
      " - 0s - loss: 0.1556 - acc: 0.9509 - val_loss: 0.2105 - val_acc: 0.9196\n",
      "Epoch 107/200\n",
      " - 0s - loss: 0.1552 - acc: 0.9509 - val_loss: 0.2100 - val_acc: 0.9196\n",
      "Epoch 108/200\n",
      " - 0s - loss: 0.1548 - acc: 0.9509 - val_loss: 0.2095 - val_acc: 0.9196\n",
      "Epoch 109/200\n",
      " - 0s - loss: 0.1544 - acc: 0.9509 - val_loss: 0.2090 - val_acc: 0.9196\n",
      "Epoch 110/200\n",
      " - 0s - loss: 0.1540 - acc: 0.9509 - val_loss: 0.2086 - val_acc: 0.9196\n",
      "Epoch 111/200\n",
      " - 0s - loss: 0.1536 - acc: 0.9509 - val_loss: 0.2080 - val_acc: 0.9196\n",
      "Epoch 112/200\n",
      " - 0s - loss: 0.1532 - acc: 0.9509 - val_loss: 0.2075 - val_acc: 0.9196\n",
      "Epoch 113/200\n",
      " - 0s - loss: 0.1528 - acc: 0.9509 - val_loss: 0.2069 - val_acc: 0.9196\n",
      "Epoch 114/200\n",
      " - 0s - loss: 0.1525 - acc: 0.9509 - val_loss: 0.2064 - val_acc: 0.9286\n",
      "Epoch 115/200\n",
      " - 0s - loss: 0.1521 - acc: 0.9531 - val_loss: 0.2058 - val_acc: 0.9286\n",
      "Epoch 116/200\n",
      " - 0s - loss: 0.1517 - acc: 0.9531 - val_loss: 0.2054 - val_acc: 0.9286\n",
      "Epoch 117/200\n",
      " - 0s - loss: 0.1513 - acc: 0.9531 - val_loss: 0.2048 - val_acc: 0.9286\n",
      "Epoch 118/200\n",
      " - 0s - loss: 0.1509 - acc: 0.9531 - val_loss: 0.2043 - val_acc: 0.9286\n",
      "Epoch 119/200\n",
      " - 0s - loss: 0.1506 - acc: 0.9531 - val_loss: 0.2037 - val_acc: 0.9286\n",
      "Epoch 120/200\n",
      " - 0s - loss: 0.1502 - acc: 0.9531 - val_loss: 0.2031 - val_acc: 0.9286\n",
      "Epoch 121/200\n",
      " - 0s - loss: 0.1498 - acc: 0.9531 - val_loss: 0.2028 - val_acc: 0.9286\n",
      "Epoch 122/200\n",
      " - 0s - loss: 0.1494 - acc: 0.9531 - val_loss: 0.2023 - val_acc: 0.9286\n",
      "Epoch 123/200\n",
      " - 0s - loss: 0.1491 - acc: 0.9531 - val_loss: 0.2017 - val_acc: 0.9286\n",
      "Epoch 124/200\n",
      " - 0s - loss: 0.1487 - acc: 0.9531 - val_loss: 0.2013 - val_acc: 0.9286\n",
      "Epoch 125/200\n",
      " - 0s - loss: 0.1483 - acc: 0.9531 - val_loss: 0.2008 - val_acc: 0.9286\n",
      "Epoch 126/200\n",
      " - 0s - loss: 0.1480 - acc: 0.9531 - val_loss: 0.2004 - val_acc: 0.9286\n",
      "Epoch 127/200\n",
      " - 0s - loss: 0.1476 - acc: 0.9531 - val_loss: 0.1998 - val_acc: 0.9286\n",
      "Epoch 128/200\n",
      " - 0s - loss: 0.1472 - acc: 0.9531 - val_loss: 0.1995 - val_acc: 0.9286\n",
      "Epoch 129/200\n",
      " - 0s - loss: 0.1469 - acc: 0.9554 - val_loss: 0.1989 - val_acc: 0.9286\n",
      "Epoch 130/200\n",
      " - 0s - loss: 0.1465 - acc: 0.9554 - val_loss: 0.1984 - val_acc: 0.9286\n",
      "Epoch 131/200\n",
      " - 0s - loss: 0.1462 - acc: 0.9554 - val_loss: 0.1978 - val_acc: 0.9286\n",
      "Epoch 132/200\n",
      " - 0s - loss: 0.1458 - acc: 0.9554 - val_loss: 0.1974 - val_acc: 0.9286\n",
      "Epoch 133/200\n",
      " - 0s - loss: 0.1455 - acc: 0.9554 - val_loss: 0.1971 - val_acc: 0.9286\n",
      "Epoch 134/200\n",
      " - 0s - loss: 0.1451 - acc: 0.9554 - val_loss: 0.1966 - val_acc: 0.9286\n",
      "Epoch 135/200\n",
      " - 0s - loss: 0.1448 - acc: 0.9554 - val_loss: 0.1961 - val_acc: 0.9286\n",
      "Epoch 136/200\n",
      " - 0s - loss: 0.1444 - acc: 0.9554 - val_loss: 0.1956 - val_acc: 0.9286\n",
      "Epoch 137/200\n",
      " - 0s - loss: 0.1441 - acc: 0.9554 - val_loss: 0.1951 - val_acc: 0.9286\n",
      "Epoch 138/200\n",
      " - 0s - loss: 0.1437 - acc: 0.9554 - val_loss: 0.1947 - val_acc: 0.9286\n",
      "Epoch 139/200\n",
      " - 0s - loss: 0.1434 - acc: 0.9554 - val_loss: 0.1943 - val_acc: 0.9286\n",
      "Epoch 140/200\n",
      " - 0s - loss: 0.1430 - acc: 0.9554 - val_loss: 0.1937 - val_acc: 0.9286\n",
      "Epoch 141/200\n",
      " - 0s - loss: 0.1427 - acc: 0.9554 - val_loss: 0.1932 - val_acc: 0.9286\n",
      "Epoch 142/200\n",
      " - 0s - loss: 0.1424 - acc: 0.9554 - val_loss: 0.1928 - val_acc: 0.9286\n",
      "Epoch 143/200\n",
      " - 0s - loss: 0.1420 - acc: 0.9554 - val_loss: 0.1924 - val_acc: 0.9286\n",
      "Epoch 144/200\n",
      " - 0s - loss: 0.1417 - acc: 0.9554 - val_loss: 0.1919 - val_acc: 0.9286\n",
      "Epoch 145/200\n",
      " - 0s - loss: 0.1414 - acc: 0.9554 - val_loss: 0.1916 - val_acc: 0.9286\n",
      "Epoch 146/200\n",
      " - 0s - loss: 0.1410 - acc: 0.9554 - val_loss: 0.1912 - val_acc: 0.9286\n",
      "Epoch 147/200\n",
      " - 0s - loss: 0.1407 - acc: 0.9554 - val_loss: 0.1907 - val_acc: 0.9286\n",
      "Epoch 148/200\n",
      " - 0s - loss: 0.1403 - acc: 0.9554 - val_loss: 0.1902 - val_acc: 0.9286\n",
      "Epoch 149/200\n",
      " - 0s - loss: 0.1400 - acc: 0.9554 - val_loss: 0.1897 - val_acc: 0.9286\n",
      "Epoch 150/200\n",
      " - 0s - loss: 0.1397 - acc: 0.9554 - val_loss: 0.1893 - val_acc: 0.9286\n",
      "Epoch 151/200\n",
      " - 0s - loss: 0.1394 - acc: 0.9554 - val_loss: 0.1888 - val_acc: 0.9286\n",
      "Epoch 152/200\n",
      " - 0s - loss: 0.1391 - acc: 0.9554 - val_loss: 0.1883 - val_acc: 0.9286\n",
      "Epoch 153/200\n",
      " - 0s - loss: 0.1387 - acc: 0.9554 - val_loss: 0.1880 - val_acc: 0.9286\n",
      "Epoch 154/200\n",
      " - 0s - loss: 0.1384 - acc: 0.9554 - val_loss: 0.1875 - val_acc: 0.9286\n",
      "Epoch 155/200\n",
      " - 0s - loss: 0.1381 - acc: 0.9554 - val_loss: 0.1871 - val_acc: 0.9286\n",
      "Epoch 156/200\n",
      " - 0s - loss: 0.1378 - acc: 0.9554 - val_loss: 0.1867 - val_acc: 0.9286\n",
      "Epoch 157/200\n",
      " - 0s - loss: 0.1374 - acc: 0.9554 - val_loss: 0.1862 - val_acc: 0.9286\n",
      "Epoch 158/200\n",
      " - 0s - loss: 0.1371 - acc: 0.9554 - val_loss: 0.1858 - val_acc: 0.9286\n",
      "Epoch 159/200\n",
      " - 0s - loss: 0.1368 - acc: 0.9554 - val_loss: 0.1853 - val_acc: 0.9286\n",
      "Epoch 160/200\n",
      " - 0s - loss: 0.1365 - acc: 0.9554 - val_loss: 0.1850 - val_acc: 0.9286\n",
      "Epoch 161/200\n",
      " - 0s - loss: 0.1362 - acc: 0.9554 - val_loss: 0.1846 - val_acc: 0.9286\n",
      "Epoch 162/200\n",
      " - 0s - loss: 0.1359 - acc: 0.9554 - val_loss: 0.1842 - val_acc: 0.9286\n",
      "Epoch 163/200\n",
      " - 0s - loss: 0.1356 - acc: 0.9554 - val_loss: 0.1837 - val_acc: 0.9286\n",
      "Epoch 164/200\n",
      " - 0s - loss: 0.1353 - acc: 0.9554 - val_loss: 0.1833 - val_acc: 0.9286\n",
      "Epoch 165/200\n",
      " - 0s - loss: 0.1350 - acc: 0.9554 - val_loss: 0.1830 - val_acc: 0.9286\n",
      "Epoch 166/200\n",
      " - 0s - loss: 0.1347 - acc: 0.9554 - val_loss: 0.1826 - val_acc: 0.9286\n",
      "Epoch 167/200\n",
      " - 0s - loss: 0.1344 - acc: 0.9554 - val_loss: 0.1821 - val_acc: 0.9286\n",
      "Epoch 168/200\n",
      " - 0s - loss: 0.1341 - acc: 0.9554 - val_loss: 0.1817 - val_acc: 0.9286\n",
      "Epoch 169/200\n",
      " - 0s - loss: 0.1338 - acc: 0.9554 - val_loss: 0.1814 - val_acc: 0.9286\n",
      "Epoch 170/200\n",
      " - 0s - loss: 0.1335 - acc: 0.9554 - val_loss: 0.1811 - val_acc: 0.9286\n",
      "Epoch 171/200\n",
      " - 0s - loss: 0.1332 - acc: 0.9554 - val_loss: 0.1807 - val_acc: 0.9286\n",
      "Epoch 172/200\n",
      " - 0s - loss: 0.1329 - acc: 0.9554 - val_loss: 0.1802 - val_acc: 0.9286\n",
      "Epoch 173/200\n",
      " - 0s - loss: 0.1326 - acc: 0.9554 - val_loss: 0.1797 - val_acc: 0.9286\n",
      "Epoch 174/200\n",
      " - 0s - loss: 0.1323 - acc: 0.9554 - val_loss: 0.1794 - val_acc: 0.9286\n",
      "Epoch 175/200\n",
      " - 0s - loss: 0.1320 - acc: 0.9554 - val_loss: 0.1791 - val_acc: 0.9286\n",
      "Epoch 176/200\n",
      " - 0s - loss: 0.1317 - acc: 0.9554 - val_loss: 0.1786 - val_acc: 0.9286\n",
      "Epoch 177/200\n",
      " - 0s - loss: 0.1314 - acc: 0.9554 - val_loss: 0.1783 - val_acc: 0.9286\n",
      "Epoch 178/200\n",
      " - 0s - loss: 0.1312 - acc: 0.9554 - val_loss: 0.1779 - val_acc: 0.9286\n",
      "Epoch 179/200\n",
      " - 0s - loss: 0.1309 - acc: 0.9554 - val_loss: 0.1775 - val_acc: 0.9286\n",
      "Epoch 180/200\n",
      " - 0s - loss: 0.1306 - acc: 0.9554 - val_loss: 0.1771 - val_acc: 0.9286\n",
      "Epoch 181/200\n",
      " - 0s - loss: 0.1303 - acc: 0.9554 - val_loss: 0.1767 - val_acc: 0.9286\n",
      "Epoch 182/200\n",
      " - 0s - loss: 0.1300 - acc: 0.9554 - val_loss: 0.1764 - val_acc: 0.9286\n",
      "Epoch 183/200\n",
      " - 0s - loss: 0.1297 - acc: 0.9554 - val_loss: 0.1760 - val_acc: 0.9286\n",
      "Epoch 184/200\n",
      " - 0s - loss: 0.1295 - acc: 0.9554 - val_loss: 0.1756 - val_acc: 0.9286\n",
      "Epoch 185/200\n",
      " - 0s - loss: 0.1292 - acc: 0.9554 - val_loss: 0.1752 - val_acc: 0.9286\n",
      "Epoch 186/200\n",
      " - 0s - loss: 0.1289 - acc: 0.9554 - val_loss: 0.1749 - val_acc: 0.9286\n",
      "Epoch 187/200\n",
      " - 0s - loss: 0.1286 - acc: 0.9554 - val_loss: 0.1745 - val_acc: 0.9286\n",
      "Epoch 188/200\n",
      " - 0s - loss: 0.1284 - acc: 0.9554 - val_loss: 0.1741 - val_acc: 0.9286\n",
      "Epoch 189/200\n",
      " - 0s - loss: 0.1281 - acc: 0.9554 - val_loss: 0.1737 - val_acc: 0.9286\n",
      "Epoch 190/200\n",
      " - 0s - loss: 0.1278 - acc: 0.9554 - val_loss: 0.1734 - val_acc: 0.9286\n",
      "Epoch 191/200\n",
      " - 0s - loss: 0.1276 - acc: 0.9554 - val_loss: 0.1731 - val_acc: 0.9286\n",
      "Epoch 192/200\n",
      " - 0s - loss: 0.1273 - acc: 0.9554 - val_loss: 0.1728 - val_acc: 0.9286\n"
     ]
    },
    {
     "name": "stdout",
     "output_type": "stream",
     "text": [
      "Epoch 193/200\n",
      " - 0s - loss: 0.1270 - acc: 0.9554 - val_loss: 0.1724 - val_acc: 0.9286\n",
      "Epoch 194/200\n",
      " - 0s - loss: 0.1268 - acc: 0.9554 - val_loss: 0.1721 - val_acc: 0.9286\n",
      "Epoch 195/200\n",
      " - 0s - loss: 0.1265 - acc: 0.9554 - val_loss: 0.1716 - val_acc: 0.9286\n",
      "Epoch 196/200\n",
      " - 0s - loss: 0.1262 - acc: 0.9554 - val_loss: 0.1713 - val_acc: 0.9286\n",
      "Epoch 197/200\n",
      " - 0s - loss: 0.1260 - acc: 0.9554 - val_loss: 0.1710 - val_acc: 0.9286\n",
      "Epoch 198/200\n",
      " - 0s - loss: 0.1257 - acc: 0.9554 - val_loss: 0.1707 - val_acc: 0.9286\n",
      "Epoch 199/200\n",
      " - 0s - loss: 0.1255 - acc: 0.9554 - val_loss: 0.1703 - val_acc: 0.9286\n",
      "Epoch 200/200\n",
      " - 0s - loss: 0.1252 - acc: 0.9554 - val_loss: 0.1699 - val_acc: 0.9286\n"
     ]
    }
   ],
   "source": [
    "history2= model.fit(xtrain, ytrain, epochs=200, validation_split=0.2, verbose=2)"
   ]
  },
  {
   "cell_type": "code",
   "execution_count": 35,
   "metadata": {},
   "outputs": [
    {
     "name": "stdout",
     "output_type": "stream",
     "text": [
      "Epoch 1/100\n",
      "241/241 [==============================] - 0s 104us/step - loss: 0.1233 - acc: 0.9544\n",
      "Epoch 2/100\n",
      "241/241 [==============================] - 0s 41us/step - loss: 0.1231 - acc: 0.9544\n",
      "Epoch 3/100\n",
      "241/241 [==============================] - 0s 52us/step - loss: 0.1230 - acc: 0.9544\n",
      "Epoch 4/100\n",
      "241/241 [==============================] - 0s 62us/step - loss: 0.1229 - acc: 0.9544\n",
      "Epoch 5/100\n",
      "241/241 [==============================] - 0s 52us/step - loss: 0.1227 - acc: 0.9544\n",
      "Epoch 6/100\n",
      "241/241 [==============================] - 0s 52us/step - loss: 0.1226 - acc: 0.9544\n",
      "Epoch 7/100\n",
      "241/241 [==============================] - 0s 52us/step - loss: 0.1224 - acc: 0.9544\n",
      "Epoch 8/100\n",
      "241/241 [==============================] - 0s 52us/step - loss: 0.1223 - acc: 0.9544\n",
      "Epoch 9/100\n",
      "241/241 [==============================] - 0s 52us/step - loss: 0.1221 - acc: 0.9544\n",
      "Epoch 10/100\n",
      "241/241 [==============================] - 0s 104us/step - loss: 0.1220 - acc: 0.9544\n",
      "Epoch 11/100\n",
      "241/241 [==============================] - 0s 52us/step - loss: 0.1218 - acc: 0.9544\n",
      "Epoch 12/100\n",
      "241/241 [==============================] - 0s 52us/step - loss: 0.1217 - acc: 0.9544\n",
      "Epoch 13/100\n",
      "241/241 [==============================] - 0s 52us/step - loss: 0.1216 - acc: 0.9544\n",
      "Epoch 14/100\n",
      "241/241 [==============================] - 0s 83us/step - loss: 0.1214 - acc: 0.9544\n",
      "Epoch 15/100\n",
      "241/241 [==============================] - 0s 62us/step - loss: 0.1213 - acc: 0.9544\n",
      "Epoch 16/100\n",
      "241/241 [==============================] - 0s 83us/step - loss: 0.1211 - acc: 0.9544\n",
      "Epoch 17/100\n",
      "241/241 [==============================] - 0s 52us/step - loss: 0.1210 - acc: 0.9544\n",
      "Epoch 18/100\n",
      "241/241 [==============================] - 0s 52us/step - loss: 0.1208 - acc: 0.9544\n",
      "Epoch 19/100\n",
      "241/241 [==============================] - 0s 83us/step - loss: 0.1207 - acc: 0.9544\n",
      "Epoch 20/100\n",
      "241/241 [==============================] - 0s 62us/step - loss: 0.1206 - acc: 0.9544\n",
      "Epoch 21/100\n",
      "241/241 [==============================] - 0s 73us/step - loss: 0.1204 - acc: 0.9544\n",
      "Epoch 22/100\n",
      "241/241 [==============================] - 0s 62us/step - loss: 0.1203 - acc: 0.9544\n",
      "Epoch 23/100\n",
      "241/241 [==============================] - 0s 52us/step - loss: 0.1202 - acc: 0.9544\n",
      "Epoch 24/100\n",
      "241/241 [==============================] - 0s 83us/step - loss: 0.1200 - acc: 0.9585\n",
      "Epoch 25/100\n",
      "241/241 [==============================] - 0s 73us/step - loss: 0.1199 - acc: 0.9585\n",
      "Epoch 26/100\n",
      "241/241 [==============================] - 0s 52us/step - loss: 0.1198 - acc: 0.9585\n",
      "Epoch 27/100\n",
      "241/241 [==============================] - 0s 83us/step - loss: 0.1196 - acc: 0.9585\n",
      "Epoch 28/100\n",
      "241/241 [==============================] - 0s 62us/step - loss: 0.1195 - acc: 0.9585\n",
      "Epoch 29/100\n",
      "241/241 [==============================] - 0s 52us/step - loss: 0.1194 - acc: 0.9585\n",
      "Epoch 30/100\n",
      "241/241 [==============================] - 0s 62us/step - loss: 0.1192 - acc: 0.9585\n",
      "Epoch 31/100\n",
      "241/241 [==============================] - 0s 52us/step - loss: 0.1191 - acc: 0.9585\n",
      "Epoch 32/100\n",
      "241/241 [==============================] - 0s 52us/step - loss: 0.1189 - acc: 0.9585\n",
      "Epoch 33/100\n",
      "241/241 [==============================] - 0s 73us/step - loss: 0.1188 - acc: 0.9585\n",
      "Epoch 34/100\n",
      "241/241 [==============================] - 0s 62us/step - loss: 0.1187 - acc: 0.9585\n",
      "Epoch 35/100\n",
      "241/241 [==============================] - 0s 52us/step - loss: 0.1185 - acc: 0.9585\n",
      "Epoch 36/100\n",
      "241/241 [==============================] - 0s 62us/step - loss: 0.1184 - acc: 0.9585\n",
      "Epoch 37/100\n",
      "241/241 [==============================] - 0s 52us/step - loss: 0.1183 - acc: 0.9585\n",
      "Epoch 38/100\n",
      "241/241 [==============================] - 0s 41us/step - loss: 0.1182 - acc: 0.9585\n",
      "Epoch 39/100\n",
      "241/241 [==============================] - 0s 52us/step - loss: 0.1180 - acc: 0.9585\n",
      "Epoch 40/100\n",
      "241/241 [==============================] - 0s 73us/step - loss: 0.1179 - acc: 0.9585\n",
      "Epoch 41/100\n",
      "241/241 [==============================] - 0s 41us/step - loss: 0.1178 - acc: 0.9585\n",
      "Epoch 42/100\n",
      "241/241 [==============================] - 0s 52us/step - loss: 0.1176 - acc: 0.9585\n",
      "Epoch 43/100\n",
      "241/241 [==============================] - 0s 62us/step - loss: 0.1175 - acc: 0.9585\n",
      "Epoch 44/100\n",
      "241/241 [==============================] - 0s 73us/step - loss: 0.1174 - acc: 0.9585\n",
      "Epoch 45/100\n",
      "241/241 [==============================] - 0s 52us/step - loss: 0.1173 - acc: 0.9585\n",
      "Epoch 46/100\n",
      "241/241 [==============================] - 0s 52us/step - loss: 0.1171 - acc: 0.9585\n",
      "Epoch 47/100\n",
      "241/241 [==============================] - 0s 93us/step - loss: 0.1170 - acc: 0.9585\n",
      "Epoch 48/100\n",
      "241/241 [==============================] - 0s 62us/step - loss: 0.1169 - acc: 0.9585\n",
      "Epoch 49/100\n",
      "241/241 [==============================] - 0s 52us/step - loss: 0.1168 - acc: 0.9585\n",
      "Epoch 50/100\n",
      "241/241 [==============================] - 0s 83us/step - loss: 0.1166 - acc: 0.9585\n",
      "Epoch 51/100\n",
      "241/241 [==============================] - 0s 62us/step - loss: 0.1165 - acc: 0.9585\n",
      "Epoch 52/100\n",
      "241/241 [==============================] - 0s 62us/step - loss: 0.1164 - acc: 0.9585\n",
      "Epoch 53/100\n",
      "241/241 [==============================] - 0s 83us/step - loss: 0.1162 - acc: 0.9585\n",
      "Epoch 54/100\n",
      "241/241 [==============================] - 0s 62us/step - loss: 0.1161 - acc: 0.9585\n",
      "Epoch 55/100\n",
      "241/241 [==============================] - 0s 62us/step - loss: 0.1160 - acc: 0.9585\n",
      "Epoch 56/100\n",
      "241/241 [==============================] - 0s 83us/step - loss: 0.1159 - acc: 0.9585\n",
      "Epoch 57/100\n",
      "241/241 [==============================] - 0s 73us/step - loss: 0.1158 - acc: 0.9585\n",
      "Epoch 58/100\n",
      "241/241 [==============================] - 0s 62us/step - loss: 0.1156 - acc: 0.9585\n",
      "Epoch 59/100\n",
      "241/241 [==============================] - 0s 83us/step - loss: 0.1155 - acc: 0.9585\n",
      "Epoch 60/100\n",
      "241/241 [==============================] - 0s 73us/step - loss: 0.1154 - acc: 0.9585\n",
      "Epoch 61/100\n",
      "241/241 [==============================] - 0s 52us/step - loss: 0.1153 - acc: 0.9585\n",
      "Epoch 62/100\n",
      "241/241 [==============================] - 0s 52us/step - loss: 0.1151 - acc: 0.9585\n",
      "Epoch 63/100\n",
      "241/241 [==============================] - 0s 52us/step - loss: 0.1150 - acc: 0.9585\n",
      "Epoch 64/100\n",
      "241/241 [==============================] - 0s 93us/step - loss: 0.1149 - acc: 0.9585\n",
      "Epoch 65/100\n",
      "241/241 [==============================] - 0s 52us/step - loss: 0.1148 - acc: 0.9585\n",
      "Epoch 66/100\n",
      "241/241 [==============================] - 0s 62us/step - loss: 0.1147 - acc: 0.9585\n",
      "Epoch 67/100\n",
      "241/241 [==============================] - 0s 73us/step - loss: 0.1146 - acc: 0.9585\n",
      "Epoch 68/100\n",
      "241/241 [==============================] - 0s 52us/step - loss: 0.1144 - acc: 0.9585\n",
      "Epoch 69/100\n",
      "241/241 [==============================] - 0s 52us/step - loss: 0.1144 - acc: 0.9585\n",
      "Epoch 70/100\n",
      "241/241 [==============================] - 0s 52us/step - loss: 0.1142 - acc: 0.9585\n",
      "Epoch 71/100\n",
      "241/241 [==============================] - 0s 62us/step - loss: 0.1141 - acc: 0.9585\n",
      "Epoch 72/100\n",
      "241/241 [==============================] - 0s 62us/step - loss: 0.1140 - acc: 0.9585\n",
      "Epoch 73/100\n",
      "241/241 [==============================] - 0s 62us/step - loss: 0.1139 - acc: 0.9585\n",
      "Epoch 74/100\n",
      "241/241 [==============================] - 0s 93us/step - loss: 0.1137 - acc: 0.9585\n",
      "Epoch 75/100\n",
      "241/241 [==============================] - 0s 52us/step - loss: 0.1136 - acc: 0.9585\n",
      "Epoch 76/100\n",
      "241/241 [==============================] - 0s 41us/step - loss: 0.1135 - acc: 0.9585\n",
      "Epoch 77/100\n",
      "241/241 [==============================] - 0s 62us/step - loss: 0.1134 - acc: 0.9585\n",
      "Epoch 78/100\n",
      "241/241 [==============================] - 0s 62us/step - loss: 0.1133 - acc: 0.9585\n",
      "Epoch 79/100\n",
      "241/241 [==============================] - 0s 52us/step - loss: 0.1132 - acc: 0.9585\n",
      "Epoch 80/100\n",
      "241/241 [==============================] - 0s 62us/step - loss: 0.1130 - acc: 0.9585\n",
      "Epoch 81/100\n",
      "241/241 [==============================] - 0s 73us/step - loss: 0.1129 - acc: 0.9585\n",
      "Epoch 82/100\n",
      "241/241 [==============================] - 0s 62us/step - loss: 0.1128 - acc: 0.9585\n",
      "Epoch 83/100\n",
      "241/241 [==============================] - 0s 52us/step - loss: 0.1127 - acc: 0.9585\n",
      "Epoch 84/100\n",
      "241/241 [==============================] - 0s 73us/step - loss: 0.1126 - acc: 0.9585\n",
      "Epoch 85/100\n",
      "241/241 [==============================] - 0s 62us/step - loss: 0.1125 - acc: 0.9627\n",
      "Epoch 86/100\n",
      "241/241 [==============================] - 0s 52us/step - loss: 0.1124 - acc: 0.9627\n",
      "Epoch 87/100\n",
      "241/241 [==============================] - 0s 52us/step - loss: 0.1123 - acc: 0.9627\n",
      "Epoch 88/100\n",
      "241/241 [==============================] - 0s 52us/step - loss: 0.1122 - acc: 0.9627\n",
      "Epoch 89/100\n",
      "241/241 [==============================] - 0s 73us/step - loss: 0.1121 - acc: 0.9627\n",
      "Epoch 90/100\n",
      "241/241 [==============================] - 0s 104us/step - loss: 0.1120 - acc: 0.9627\n",
      "Epoch 91/100\n",
      "241/241 [==============================] - 0s 83us/step - loss: 0.1118 - acc: 0.9627\n",
      "Epoch 92/100\n",
      "241/241 [==============================] - 0s 73us/step - loss: 0.1117 - acc: 0.9627\n",
      "Epoch 93/100\n",
      "241/241 [==============================] - 0s 73us/step - loss: 0.1116 - acc: 0.9627\n",
      "Epoch 94/100\n",
      "241/241 [==============================] - 0s 62us/step - loss: 0.1115 - acc: 0.9627\n",
      "Epoch 95/100\n",
      "241/241 [==============================] - 0s 73us/step - loss: 0.1114 - acc: 0.9627\n",
      "Epoch 96/100\n",
      "241/241 [==============================] - 0s 73us/step - loss: 0.1113 - acc: 0.9627\n",
      "Epoch 97/100\n",
      "241/241 [==============================] - 0s 73us/step - loss: 0.1112 - acc: 0.9627\n",
      "Epoch 98/100\n",
      "241/241 [==============================] - 0s 52us/step - loss: 0.1111 - acc: 0.9627\n",
      "Epoch 99/100\n",
      "241/241 [==============================] - 0s 73us/step - loss: 0.1110 - acc: 0.9627\n",
      "Epoch 100/100\n",
      "241/241 [==============================] - 0s 73us/step - loss: 0.1109 - acc: 0.9627\n"
     ]
    },
    {
     "data": {
      "text/plain": [
       "<keras.callbacks.History at 0x1327ac50>"
      ]
     },
     "execution_count": 35,
     "metadata": {},
     "output_type": "execute_result"
    }
   ],
   "source": [
    "model.fit(xtest,ytest,epochs=100)"
   ]
  },
  {
   "cell_type": "code",
   "execution_count": 40,
   "metadata": {},
   "outputs": [
    {
     "data": {
      "text/plain": [
       "[<matplotlib.lines.Line2D at 0x132b5908>]"
      ]
     },
     "execution_count": 40,
     "metadata": {},
     "output_type": "execute_result"
    },
    {
     "data": {
      "image/png": "[encoded data removed]",
      "text/plain": [
       "<Figure size 432x288 with 1 Axes>"
      ]
     },
     "metadata": {},
     "output_type": "display_data"
    }
   ],
   "source": [
    "plt.plot(history2.epoch, history2.history['loss'], 'g')\n",
    "plt.plot(history2.epoch, history2.history['val_loss'],'r')"
   ]
  },
  {
   "cell_type": "code",
   "execution_count": 36,
   "metadata": {},
   "outputs": [
    {
     "name": "stdout",
     "output_type": "stream",
     "text": [
      "241/241 [==============================] - 0s 83us/step\n",
      "0.9626556016597511\n"
     ]
    }
   ],
   "source": [
    "loss, accuracy = model.evaluate(xtest,ytest)\n",
    "print(accuracy)"
   ]
  },
  {
   "cell_type": "markdown",
   "metadata": {},
   "source": [
    "## Algorithm conclusions"
   ]
  },
  {
   "cell_type": "markdown",
   "metadata": {},
   "source": [
    "The two algorithms gives an accuracy of more than 75% but the neural network gives a better accuracy when compared to KNN on both targets. "
   ]
  }
 ],
 "metadata": {
  "kernelspec": {
   "display_name": "Python 3",
   "language": "python",
   "name": "python3"
  },
  "language_info": {
   "codemirror_mode": {
    "name": "ipython",
    "version": 3
   },
   "file_extension": ".py",
   "mimetype": "text/x-python",
   "name": "python",
   "nbconvert_exporter": "python",
   "pygments_lexer": "ipython3",
   "version": "3.6.5"
  }
 },
 "nbformat": 4,
 "nbformat_minor": 2
}
